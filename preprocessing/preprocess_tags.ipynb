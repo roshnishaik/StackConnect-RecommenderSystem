{
 "cells": [
  {
   "cell_type": "code",
   "execution_count": null,
   "metadata": {
    "ExecuteTime": {
     "end_time": "2020-04-19T22:36:39.744061Z",
     "start_time": "2020-04-19T22:36:39.713512Z"
    }
   },
   "outputs": [],
   "source": [
    "#import the bq_helper library to help in making API calls to big query and fetch information\n",
    "import bq_helper\n",
    "from bq_helper import BigQueryHelper\n",
    "import os\n",
    "\n",
    "#we need to set the google application credentials key, which is unique based on the service account.\n",
    "os.environ[\"GOOGLE_APPLICATION_CREDENTIALS\"]=\"key.json\"\n",
    "bq_assistant = BigQueryHelper(\"bigquery-public-data\", \"stackoverflow\")\n",
    "\n",
    "#we find out the questions answered by a particular user and save them as a dataframe\n",
    "QUERY = \"SELECT q.id, q.title, q.body, q.tags, a.body as answers, a.score FROM `bigquery-public-data.stackoverflow.posts_questions` AS q INNER JOIN `bigquery-public-data.stackoverflow.posts_answers` AS a ON q.id = a.parent_id WHERE q.tags LIKE '%python%' LIMIT 500000\"\n",
    "df = bq_assistant.query_to_pandas(QUERY)"
   ]
  },
  {
   "cell_type": "code",
   "execution_count": 3,
   "metadata": {
    "ExecuteTime": {
     "end_time": "2020-04-13T04:23:04.393228Z",
     "start_time": "2020-04-13T04:22:43.161705Z"
    }
   },
   "outputs": [],
   "source": [
    "#output this dataframe as a csv file\n",
    "df.to_csv('data/Original_data.csv')"
   ]
  },
  {
   "cell_type": "code",
   "execution_count": 6,
   "metadata": {
    "ExecuteTime": {
     "end_time": "2020-04-13T04:35:11.100662Z",
     "start_time": "2020-04-13T04:34:51.180810Z"
    }
   },
   "outputs": [
    {
     "data": {
      "text/html": [
       "<div>\n",
       "<style scoped>\n",
       "    .dataframe tbody tr th:only-of-type {\n",
       "        vertical-align: middle;\n",
       "    }\n",
       "\n",
       "    .dataframe tbody tr th {\n",
       "        vertical-align: top;\n",
       "    }\n",
       "\n",
       "    .dataframe thead th {\n",
       "        text-align: right;\n",
       "    }\n",
       "</style>\n",
       "<table border=\"1\" class=\"dataframe\">\n",
       "  <thead>\n",
       "    <tr style=\"text-align: right;\">\n",
       "      <th></th>\n",
       "      <th>id</th>\n",
       "      <th>title</th>\n",
       "      <th>body</th>\n",
       "      <th>tags</th>\n",
       "      <th>answers</th>\n",
       "      <th>score</th>\n",
       "    </tr>\n",
       "  </thead>\n",
       "  <tbody>\n",
       "    <tr>\n",
       "      <th>0</th>\n",
       "      <td>4395499</td>\n",
       "      <td>PyLint Best Practices?</td>\n",
       "      <td>&lt;p&gt;pyLint looks like a good tool for running a...</td>\n",
       "      <td>python|static-analysis|pylint</td>\n",
       "      <td>&lt;p&gt;To persistently disable warnings and conven...</td>\n",
       "      <td>10</td>\n",
       "    </tr>\n",
       "    <tr>\n",
       "      <th>1</th>\n",
       "      <td>8036878</td>\n",
       "      <td>Function of Numpy Array with if-statement</td>\n",
       "      <td>&lt;p&gt;I am using &lt;a href=\"http://matplotlib.sourc...</td>\n",
       "      <td>python|numpy|matplotlib</td>\n",
       "      <td>&lt;p&gt;I know it is too late for this answer, but ...</td>\n",
       "      <td>12</td>\n",
       "    </tr>\n",
       "    <tr>\n",
       "      <th>2</th>\n",
       "      <td>12492137</td>\n",
       "      <td>Python sum of ASCII values of all characters i...</td>\n",
       "      <td>&lt;p&gt;I am searching a more efficient way to sum-...</td>\n",
       "      <td>python|string|python-2.7|ascii</td>\n",
       "      <td>&lt;p&gt;You can use an intermediate &lt;code&gt;bytearray...</td>\n",
       "      <td>20</td>\n",
       "    </tr>\n",
       "    <tr>\n",
       "      <th>3</th>\n",
       "      <td>2676133</td>\n",
       "      <td>Best way to do enum in Sqlalchemy?</td>\n",
       "      <td>&lt;p&gt;I'm reading about sqlalchemy and I saw foll...</td>\n",
       "      <td>python|sqlalchemy</td>\n",
       "      <td>&lt;p&gt;SQLAlchemy has an Enum type since 0.6: \\n&lt;a...</td>\n",
       "      <td>35</td>\n",
       "    </tr>\n",
       "    <tr>\n",
       "      <th>4</th>\n",
       "      <td>4857927</td>\n",
       "      <td>Swapping columns in a numpy array?</td>\n",
       "      <td>&lt;pre&gt;&lt;code&gt;from numpy import *\\ndef swap_colum...</td>\n",
       "      <td>python|numpy</td>\n",
       "      <td>&lt;p&gt;I find the following the fastest:&lt;/p&gt;\\n\\n&lt;p...</td>\n",
       "      <td>24</td>\n",
       "    </tr>\n",
       "  </tbody>\n",
       "</table>\n",
       "</div>"
      ],
      "text/plain": [
       "         id                                              title  \\\n",
       "0   4395499                             PyLint Best Practices?   \n",
       "1   8036878          Function of Numpy Array with if-statement   \n",
       "2  12492137  Python sum of ASCII values of all characters i...   \n",
       "3   2676133                 Best way to do enum in Sqlalchemy?   \n",
       "4   4857927                 Swapping columns in a numpy array?   \n",
       "\n",
       "                                                body  \\\n",
       "0  <p>pyLint looks like a good tool for running a...   \n",
       "1  <p>I am using <a href=\"http://matplotlib.sourc...   \n",
       "2  <p>I am searching a more efficient way to sum-...   \n",
       "3  <p>I'm reading about sqlalchemy and I saw foll...   \n",
       "4  <pre><code>from numpy import *\\ndef swap_colum...   \n",
       "\n",
       "                             tags  \\\n",
       "0   python|static-analysis|pylint   \n",
       "1         python|numpy|matplotlib   \n",
       "2  python|string|python-2.7|ascii   \n",
       "3               python|sqlalchemy   \n",
       "4                    python|numpy   \n",
       "\n",
       "                                             answers  score  \n",
       "0  <p>To persistently disable warnings and conven...     10  \n",
       "1  <p>I know it is too late for this answer, but ...     12  \n",
       "2  <p>You can use an intermediate <code>bytearray...     20  \n",
       "3  <p>SQLAlchemy has an Enum type since 0.6: \\n<a...     35  \n",
       "4  <p>I find the following the fastest:</p>\\n\\n<p...     24  "
      ]
     },
     "execution_count": 6,
     "metadata": {},
     "output_type": "execute_result"
    }
   ],
   "source": [
    "#read the stored csv file which has information as displayed below\n",
    "import pandas as pd\n",
    "import numpy as np\n",
    "import spacy\n",
    "EN = spacy.load('en_core_web_sm')\n",
    "df = pd.read_csv('data/Original_data.csv')\n",
    "df = df.iloc[:,1:]\n",
    "df.head()"
   ]
  },
  {
   "cell_type": "code",
   "execution_count": 7,
   "metadata": {
    "ExecuteTime": {
     "end_time": "2020-04-13T04:35:30.185877Z",
     "start_time": "2020-04-13T04:35:30.182924Z"
    }
   },
   "outputs": [
    {
     "name": "stdout",
     "output_type": "stream",
     "text": [
      "Datebase shape:(500000, 6)\n"
     ]
    }
   ],
   "source": [
    "print('Datebase shape:' + str(df.shape))"
   ]
  },
  {
   "cell_type": "code",
   "execution_count": 8,
   "metadata": {
    "ExecuteTime": {
     "end_time": "2020-04-13T04:35:40.531069Z",
     "start_time": "2020-04-13T04:35:40.373580Z"
    }
   },
   "outputs": [
    {
     "data": {
      "text/plain": [
       "id         0\n",
       "title      0\n",
       "body       0\n",
       "tags       0\n",
       "answers    0\n",
       "score      0\n",
       "dtype: int64"
      ]
     },
     "execution_count": 8,
     "metadata": {},
     "output_type": "execute_result"
    }
   ],
   "source": [
    "#we can see that there are no null values\n",
    "df.isna().sum()"
   ]
  },
  {
   "cell_type": "code",
   "execution_count": 10,
   "metadata": {
    "ExecuteTime": {
     "end_time": "2020-04-13T04:39:52.936284Z",
     "start_time": "2020-04-13T04:39:52.932534Z"
    }
   },
   "outputs": [
    {
     "data": {
      "text/plain": [
       "'1.0.3'"
      ]
     },
     "execution_count": 10,
     "metadata": {},
     "output_type": "execute_result"
    }
   ],
   "source": [
    "pd.__version__"
   ]
  },
  {
   "cell_type": "markdown",
   "metadata": {},
   "source": [
    "In order to construct a corpus, we grouped all the answers by concatenating them based on their common questions and tags. Moreover, we added the scores for each answer in order to get a collective score for an entire question"
   ]
  },
  {
   "cell_type": "code",
   "execution_count": 11,
   "metadata": {
    "ExecuteTime": {
     "end_time": "2020-04-13T04:42:52.064067Z",
     "start_time": "2020-04-13T04:42:46.370830Z"
    }
   },
   "outputs": [],
   "source": [
    "aggregations = {\n",
    "    'answers': lambda x: \"\\n\".join(x) ,\n",
    "    'score': 'sum'\n",
    "    }\n",
    "grouped = df.groupby(['id','title', 'body','tags'],as_index=False).agg(aggregations)\n",
    "deduped_df = pd.DataFrame(grouped)"
   ]
  },
  {
   "cell_type": "code",
   "execution_count": 12,
   "metadata": {
    "ExecuteTime": {
     "end_time": "2020-04-13T04:43:03.843660Z",
     "start_time": "2020-04-13T04:43:03.835374Z"
    }
   },
   "outputs": [
    {
     "data": {
      "text/html": [
       "<div>\n",
       "<style scoped>\n",
       "    .dataframe tbody tr th:only-of-type {\n",
       "        vertical-align: middle;\n",
       "    }\n",
       "\n",
       "    .dataframe tbody tr th {\n",
       "        vertical-align: top;\n",
       "    }\n",
       "\n",
       "    .dataframe thead th {\n",
       "        text-align: right;\n",
       "    }\n",
       "</style>\n",
       "<table border=\"1\" class=\"dataframe\">\n",
       "  <thead>\n",
       "    <tr style=\"text-align: right;\">\n",
       "      <th></th>\n",
       "      <th>id</th>\n",
       "      <th>title</th>\n",
       "      <th>body</th>\n",
       "      <th>tags</th>\n",
       "      <th>answers</th>\n",
       "      <th>score</th>\n",
       "    </tr>\n",
       "  </thead>\n",
       "  <tbody>\n",
       "    <tr>\n",
       "      <th>0</th>\n",
       "      <td>535</td>\n",
       "      <td>Continuous Integration System for a Python Cod...</td>\n",
       "      <td>&lt;p&gt;I am starting to work on a hobby project wi...</td>\n",
       "      <td>python|continuous-integration|extreme-programming</td>\n",
       "      <td>&lt;p&gt;One possibility is Hudson.  It's written in...</td>\n",
       "      <td>110</td>\n",
       "    </tr>\n",
       "    <tr>\n",
       "      <th>1</th>\n",
       "      <td>773</td>\n",
       "      <td>How do I use itertools.groupby()?</td>\n",
       "      <td>&lt;p&gt;I haven't been able to find an understandab...</td>\n",
       "      <td>python|iteration</td>\n",
       "      <td>&lt;p&gt;Can you show us your code?&lt;/p&gt;\\n\\n&lt;p&gt;The ex...</td>\n",
       "      <td>847</td>\n",
       "    </tr>\n",
       "    <tr>\n",
       "      <th>2</th>\n",
       "      <td>972</td>\n",
       "      <td>Adding a Method to an Existing Object Instance</td>\n",
       "      <td>&lt;p&gt;I've read that it is possible to add a meth...</td>\n",
       "      <td>python|oop|methods|monkeypatching</td>\n",
       "      <td>&lt;p&gt;You can use lambda to bind a method to an i...</td>\n",
       "      <td>1148</td>\n",
       "    </tr>\n",
       "    <tr>\n",
       "      <th>3</th>\n",
       "      <td>1171</td>\n",
       "      <td>What is the most efficient graph data structur...</td>\n",
       "      <td>&lt;p&gt;I need to be able to manipulate a large (10...</td>\n",
       "      <td>python|performance|data-structures|graph-theory</td>\n",
       "      <td>&lt;p&gt;Even though this question is now quite old,...</td>\n",
       "      <td>81</td>\n",
       "    </tr>\n",
       "    <tr>\n",
       "      <th>4</th>\n",
       "      <td>1476</td>\n",
       "      <td>How do you express binary literals in Python?</td>\n",
       "      <td>&lt;p&gt;How do you express an integer as a binary n...</td>\n",
       "      <td>python|syntax|binary|integer|literals</td>\n",
       "      <td>&lt;p&gt;I am pretty sure this is one of the things ...</td>\n",
       "      <td>369</td>\n",
       "    </tr>\n",
       "  </tbody>\n",
       "</table>\n",
       "</div>"
      ],
      "text/plain": [
       "     id                                              title  \\\n",
       "0   535  Continuous Integration System for a Python Cod...   \n",
       "1   773                  How do I use itertools.groupby()?   \n",
       "2   972     Adding a Method to an Existing Object Instance   \n",
       "3  1171  What is the most efficient graph data structur...   \n",
       "4  1476      How do you express binary literals in Python?   \n",
       "\n",
       "                                                body  \\\n",
       "0  <p>I am starting to work on a hobby project wi...   \n",
       "1  <p>I haven't been able to find an understandab...   \n",
       "2  <p>I've read that it is possible to add a meth...   \n",
       "3  <p>I need to be able to manipulate a large (10...   \n",
       "4  <p>How do you express an integer as a binary n...   \n",
       "\n",
       "                                                tags  \\\n",
       "0  python|continuous-integration|extreme-programming   \n",
       "1                                   python|iteration   \n",
       "2                  python|oop|methods|monkeypatching   \n",
       "3    python|performance|data-structures|graph-theory   \n",
       "4              python|syntax|binary|integer|literals   \n",
       "\n",
       "                                             answers  score  \n",
       "0  <p>One possibility is Hudson.  It's written in...    110  \n",
       "1  <p>Can you show us your code?</p>\\n\\n<p>The ex...    847  \n",
       "2  <p>You can use lambda to bind a method to an i...   1148  \n",
       "3  <p>Even though this question is now quite old,...     81  \n",
       "4  <p>I am pretty sure this is one of the things ...    369  "
      ]
     },
     "execution_count": 12,
     "metadata": {},
     "output_type": "execute_result"
    }
   ],
   "source": [
    "deduped_df.head()"
   ]
  },
  {
   "cell_type": "markdown",
   "metadata": {},
   "source": [
    "The following code block shows the result of combining answers and their scores"
   ]
  },
  {
   "cell_type": "code",
   "execution_count": 13,
   "metadata": {
    "ExecuteTime": {
     "end_time": "2020-04-13T04:43:14.448891Z",
     "start_time": "2020-04-13T04:43:14.444664Z"
    }
   },
   "outputs": [
    {
     "name": "stdout",
     "output_type": "stream",
     "text": [
      "Max score before: \n",
      "5842\n",
      "Max score after: \n",
      "9163\n"
     ]
    }
   ],
   "source": [
    "print('Max score before: ') \n",
    "print(np.max(df.score.values))\n",
    "\n",
    "print('Max score after: ') \n",
    "print(np.max(deduped_df.score.values))"
   ]
  },
  {
   "cell_type": "markdown",
   "metadata": {
    "ExecuteTime": {
     "end_time": "2020-04-19T22:43:33.042770Z",
     "start_time": "2020-04-19T22:43:33.032654Z"
    }
   },
   "source": [
    "A couple of helper functions for Text Preprocessing. The steps followed to process a piece of raw text are:\n",
    "\n",
    "1. Convert raw text into tokens\n",
    "2. Convert tokens to lower case\n",
    "3. Remove punctuations\n",
    "4. Remove Stopwords<br>\n",
    "Note: we skipped removal of numeric data since we felt it would remove precious contextual information. we also skipped a 'Stemming/Lemmatization' step because we did not want alter the domain specific terms used in our corpus and risk losing precious information"
   ]
  },
  {
   "cell_type": "code",
   "execution_count": 15,
   "metadata": {
    "ExecuteTime": {
     "end_time": "2020-04-13T04:46:07.601540Z",
     "start_time": "2020-04-13T04:46:07.578790Z"
    }
   },
   "outputs": [],
   "source": [
    "import re\n",
    "import nltk\n",
    "import inflect\n",
    "from nltk.corpus import stopwords\n",
    "\n",
    "def tokenize_text(text):\n",
    "    \"Apply tokenization using spacy to docstrings.\"\n",
    "    tokens = EN.tokenizer(text)\n",
    "    return [token.text.lower() for token in tokens if not token.is_space]\n",
    "\n",
    "def to_lowercase(words):\n",
    "    \"\"\"Convert all characters to lowercase from list of tokenized words\"\"\"\n",
    "    new_words = []\n",
    "    for word in words:\n",
    "        new_word = word.lower()\n",
    "        new_words.append(new_word)\n",
    "    return new_words\n",
    "\n",
    "def remove_punctuation(words):\n",
    "    \"\"\"Remove punctuation from list of tokenized words\"\"\"\n",
    "    new_words = []\n",
    "    for word in words:\n",
    "        new_word = re.sub(r'[^\\w\\s]', '', word)\n",
    "        if new_word != '':\n",
    "            new_words.append(new_word)\n",
    "    return new_words\n",
    "\n",
    "def remove_stopwords(words):\n",
    "    \"\"\"Remove stop words from list of tokenized words\"\"\"\n",
    "    new_words = []\n",
    "    for word in words:\n",
    "        if word not in stopwords.words('english'):\n",
    "            new_words.append(word)\n",
    "    return new_words\n",
    "\n",
    "def normalize(words):\n",
    "    words = to_lowercase(words)\n",
    "    words = remove_punctuation(words)\n",
    "    words = remove_stopwords(words)\n",
    "    return words\n",
    "\n",
    "def tokenize_code(text):\n",
    "    \"A very basic procedure for tokenizing code strings.\"\n",
    "    return RegexpTokenizer(r'\\w+').tokenize(text)\n",
    "\n",
    "def preprocess_text(text):\n",
    "    return ' '.join(normalize(tokenize_text(text)))"
   ]
  },
  {
   "cell_type": "code",
   "execution_count": 19,
   "metadata": {
    "ExecuteTime": {
     "end_time": "2020-04-13T05:05:08.513438Z",
     "start_time": "2020-04-13T04:51:51.519976Z"
    }
   },
   "outputs": [],
   "source": [
    "from bs4 import BeautifulSoup\n",
    "from textblob import TextBlob\n",
    "\n",
    "title_list = [] \n",
    "content_list = []\n",
    "url_list = []\n",
    "comment_list = []\n",
    "sentiment_polarity_list = []\n",
    "sentiment_subjectivity_list = []\n",
    "vote_list =[]\n",
    "tag_list = []\n",
    "corpus_list = []\n",
    "\n",
    "for i, row in deduped_df.iterrows():\n",
    "    title_list.append(row.title)    # Get question title\n",
    "    tag_list.append(row.tags)     # Get question tags\n",
    "    \n",
    "    # Questions\n",
    "    content = row.body\n",
    "    soup = BeautifulSoup(content, 'lxml')\n",
    "    if soup.code: soup.code.decompose()     # Remove the code section\n",
    "    tag_p = soup.p\n",
    "    tag_pre = soup.pre\n",
    "    text = ''\n",
    "    if tag_p: text = text + tag_p.get_text()\n",
    "    if tag_pre: text = text + tag_pre.get_text()\n",
    "        \n",
    "    content_list.append(str(row.title) + ' ' + str(text))   # Append title and question body data to the updated question body\n",
    "    \n",
    "    url_list.append('https://stackoverflow.com/questions/' + str(row.id))\n",
    "    \n",
    "    # Answers\n",
    "    content = row.answers\n",
    "    soup = BeautifulSoup(content, 'lxml')\n",
    "    if soup.code: soup.code.decompose()\n",
    "    tag_p = soup.p\n",
    "    tag_pre = soup.pre\n",
    "    text = ''\n",
    "    if tag_p: text = text + tag_p.get_text()\n",
    "    if tag_pre: text = text + tag_pre.get_text()\n",
    "    comment_list.append(text)\n",
    "    \n",
    "    vote_list.append(row.score)       # Append votes\n",
    "    \n",
    "    corpus_list.append(content_list[-1] + ' ' + comment_list[-1])     # Combine the updated body and answers to make the corpus\n",
    "    \n",
    "    sentiment = TextBlob(row.answers).sentiment\n",
    "    sentiment_polarity_list.append(sentiment.polarity)\n",
    "    sentiment_subjectivity_list.append(sentiment.subjectivity)\n",
    "\n",
    "content_token_df = pd.DataFrame({'original_title': title_list, 'post_corpus': corpus_list, 'question_content': content_list, 'question_url': url_list, 'tags': tag_list, 'overall_scores':vote_list,'answers_content': comment_list, 'sentiment_polarity': sentiment_polarity_list, 'sentiment_subjectivity':sentiment_subjectivity_list})"
   ]
  },
  {
   "cell_type": "code",
   "execution_count": 20,
   "metadata": {
    "ExecuteTime": {
     "end_time": "2020-04-13T05:21:38.733074Z",
     "start_time": "2020-04-13T05:21:38.720364Z"
    }
   },
   "outputs": [
    {
     "data": {
      "text/html": [
       "<div>\n",
       "<style scoped>\n",
       "    .dataframe tbody tr th:only-of-type {\n",
       "        vertical-align: middle;\n",
       "    }\n",
       "\n",
       "    .dataframe tbody tr th {\n",
       "        vertical-align: top;\n",
       "    }\n",
       "\n",
       "    .dataframe thead th {\n",
       "        text-align: right;\n",
       "    }\n",
       "</style>\n",
       "<table border=\"1\" class=\"dataframe\">\n",
       "  <thead>\n",
       "    <tr style=\"text-align: right;\">\n",
       "      <th></th>\n",
       "      <th>original_title</th>\n",
       "      <th>post_corpus</th>\n",
       "      <th>question_content</th>\n",
       "      <th>question_url</th>\n",
       "      <th>tags</th>\n",
       "      <th>overall_scores</th>\n",
       "      <th>answers_content</th>\n",
       "      <th>sentiment_polarity</th>\n",
       "      <th>sentiment_subjectivity</th>\n",
       "    </tr>\n",
       "  </thead>\n",
       "  <tbody>\n",
       "    <tr>\n",
       "      <th>0</th>\n",
       "      <td>Continuous Integration System for a Python Cod...</td>\n",
       "      <td>Continuous Integration System for a Python Cod...</td>\n",
       "      <td>Continuous Integration System for a Python Cod...</td>\n",
       "      <td>https://stackoverflow.com/questions/535</td>\n",
       "      <td>python|continuous-integration|extreme-programming</td>\n",
       "      <td>110</td>\n",
       "      <td>One possibility is Hudson.  It's written in Ja...</td>\n",
       "      <td>0.159901</td>\n",
       "      <td>0.487469</td>\n",
       "    </tr>\n",
       "    <tr>\n",
       "      <th>1</th>\n",
       "      <td>How do I use itertools.groupby()?</td>\n",
       "      <td>How do I use itertools.groupby()? I haven't be...</td>\n",
       "      <td>How do I use itertools.groupby()? I haven't be...</td>\n",
       "      <td>https://stackoverflow.com/questions/773</td>\n",
       "      <td>python|iteration</td>\n",
       "      <td>847</td>\n",
       "      <td>Can you show us your code?</td>\n",
       "      <td>-0.137932</td>\n",
       "      <td>0.737756</td>\n",
       "    </tr>\n",
       "    <tr>\n",
       "      <th>2</th>\n",
       "      <td>Adding a Method to an Existing Object Instance</td>\n",
       "      <td>Adding a Method to an Existing Object Instance...</td>\n",
       "      <td>Adding a Method to an Existing Object Instance...</td>\n",
       "      <td>https://stackoverflow.com/questions/972</td>\n",
       "      <td>python|oop|methods|monkeypatching</td>\n",
       "      <td>1148</td>\n",
       "      <td>You can use lambda to bind a method to an inst...</td>\n",
       "      <td>0.119248</td>\n",
       "      <td>0.405317</td>\n",
       "    </tr>\n",
       "    <tr>\n",
       "      <th>3</th>\n",
       "      <td>What is the most efficient graph data structur...</td>\n",
       "      <td>What is the most efficient graph data structur...</td>\n",
       "      <td>What is the most efficient graph data structur...</td>\n",
       "      <td>https://stackoverflow.com/questions/1171</td>\n",
       "      <td>python|performance|data-structures|graph-theory</td>\n",
       "      <td>81</td>\n",
       "      <td>Even though this question is now quite old, I ...</td>\n",
       "      <td>0.179258</td>\n",
       "      <td>0.511521</td>\n",
       "    </tr>\n",
       "    <tr>\n",
       "      <th>4</th>\n",
       "      <td>How do you express binary literals in Python?</td>\n",
       "      <td>How do you express binary literals in Python? ...</td>\n",
       "      <td>How do you express binary literals in Python? ...</td>\n",
       "      <td>https://stackoverflow.com/questions/1476</td>\n",
       "      <td>python|syntax|binary|integer|literals</td>\n",
       "      <td>369</td>\n",
       "      <td>I am pretty sure this is one of the things due...</td>\n",
       "      <td>-0.064497</td>\n",
       "      <td>0.605969</td>\n",
       "    </tr>\n",
       "  </tbody>\n",
       "</table>\n",
       "</div>"
      ],
      "text/plain": [
       "                                      original_title  \\\n",
       "0  Continuous Integration System for a Python Cod...   \n",
       "1                  How do I use itertools.groupby()?   \n",
       "2     Adding a Method to an Existing Object Instance   \n",
       "3  What is the most efficient graph data structur...   \n",
       "4      How do you express binary literals in Python?   \n",
       "\n",
       "                                         post_corpus  \\\n",
       "0  Continuous Integration System for a Python Cod...   \n",
       "1  How do I use itertools.groupby()? I haven't be...   \n",
       "2  Adding a Method to an Existing Object Instance...   \n",
       "3  What is the most efficient graph data structur...   \n",
       "4  How do you express binary literals in Python? ...   \n",
       "\n",
       "                                    question_content  \\\n",
       "0  Continuous Integration System for a Python Cod...   \n",
       "1  How do I use itertools.groupby()? I haven't be...   \n",
       "2  Adding a Method to an Existing Object Instance...   \n",
       "3  What is the most efficient graph data structur...   \n",
       "4  How do you express binary literals in Python? ...   \n",
       "\n",
       "                               question_url  \\\n",
       "0   https://stackoverflow.com/questions/535   \n",
       "1   https://stackoverflow.com/questions/773   \n",
       "2   https://stackoverflow.com/questions/972   \n",
       "3  https://stackoverflow.com/questions/1171   \n",
       "4  https://stackoverflow.com/questions/1476   \n",
       "\n",
       "                                                tags  overall_scores  \\\n",
       "0  python|continuous-integration|extreme-programming             110   \n",
       "1                                   python|iteration             847   \n",
       "2                  python|oop|methods|monkeypatching            1148   \n",
       "3    python|performance|data-structures|graph-theory              81   \n",
       "4              python|syntax|binary|integer|literals             369   \n",
       "\n",
       "                                     answers_content  sentiment_polarity  \\\n",
       "0  One possibility is Hudson.  It's written in Ja...            0.159901   \n",
       "1                         Can you show us your code?           -0.137932   \n",
       "2  You can use lambda to bind a method to an inst...            0.119248   \n",
       "3  Even though this question is now quite old, I ...            0.179258   \n",
       "4  I am pretty sure this is one of the things due...           -0.064497   \n",
       "\n",
       "   sentiment_subjectivity  \n",
       "0                0.487469  \n",
       "1                0.737756  \n",
       "2                0.405317  \n",
       "3                0.511521  \n",
       "4                0.605969  "
      ]
     },
     "execution_count": 20,
     "metadata": {},
     "output_type": "execute_result"
    }
   ],
   "source": [
    "content_token_df.head()"
   ]
  },
  {
   "cell_type": "code",
   "execution_count": 21,
   "metadata": {
    "ExecuteTime": {
     "end_time": "2020-04-13T05:21:46.015202Z",
     "start_time": "2020-04-13T05:21:44.906488Z"
    }
   },
   "outputs": [],
   "source": [
    "content_token_df.tags = content_token_df.tags.apply(lambda x: x.split('|'))   # Convert raw text data of tags into lists\n",
    "\n",
    "# Make a dictionary to count the frequencies for all tags\n",
    "tag_freq_dict = {}\n",
    "for tags in content_token_df.tags:\n",
    "    for tag in tags:\n",
    "        if tag not in tag_freq_dict:\n",
    "            tag_freq_dict[tag] = 0\n",
    "        else:\n",
    "            tag_freq_dict[tag] += 1"
   ]
  },
  {
   "cell_type": "markdown",
   "metadata": {},
   "source": [
    "The plan is to filter only the data which contains at least one of most_common_tags"
   ]
  },
  {
   "cell_type": "code",
   "execution_count": 22,
   "metadata": {
    "ExecuteTime": {
     "end_time": "2020-04-13T05:21:49.769717Z",
     "start_time": "2020-04-13T05:21:49.764854Z"
    }
   },
   "outputs": [],
   "source": [
    "import heapq\n",
    "most_common_tags = heapq.nlargest(20, tag_freq_dict, key=tag_freq_dict.get)"
   ]
  },
  {
   "cell_type": "code",
   "execution_count": 23,
   "metadata": {
    "ExecuteTime": {
     "end_time": "2020-04-13T05:22:02.311197Z",
     "start_time": "2020-04-13T05:22:02.306077Z"
    }
   },
   "outputs": [
    {
     "data": {
      "text/plain": [
       "['python',\n",
       " 'python-3.x',\n",
       " 'pandas',\n",
       " 'django',\n",
       " 'python-2.7',\n",
       " 'numpy',\n",
       " 'list',\n",
       " 'matplotlib',\n",
       " 'dataframe',\n",
       " 'dictionary',\n",
       " 'regex',\n",
       " 'tkinter',\n",
       " 'flask',\n",
       " 'string',\n",
       " 'tensorflow',\n",
       " 'csv',\n",
       " 'arrays',\n",
       " 'json',\n",
       " 'beautifulsoup',\n",
       " 'selenium']"
      ]
     },
     "execution_count": 23,
     "metadata": {},
     "output_type": "execute_result"
    }
   ],
   "source": [
    "most_common_tags"
   ]
  },
  {
   "cell_type": "code",
   "execution_count": 24,
   "metadata": {
    "ExecuteTime": {
     "end_time": "2020-04-13T05:22:13.661869Z",
     "start_time": "2020-04-13T05:22:13.326183Z"
    }
   },
   "outputs": [],
   "source": [
    "final_indices = []\n",
    "for i,tags in enumerate(content_token_df.tags.values.tolist()):\n",
    "    if len(set(tags).intersection(set(most_common_tags)))>1:   # The minimum length for common tags should be 2 because 'python' is a common tag for all\n",
    "        final_indices.append(i)"
   ]
  },
  {
   "cell_type": "code",
   "execution_count": 26,
   "metadata": {
    "ExecuteTime": {
     "end_time": "2020-04-13T05:22:50.230113Z",
     "start_time": "2020-04-13T05:22:50.173938Z"
    }
   },
   "outputs": [],
   "source": [
    "final_data = content_token_df.iloc[final_indices]"
   ]
  },
  {
   "cell_type": "markdown",
   "metadata": {},
   "source": [
    "**Data Normalization**\n",
    "<br>\n",
    "1. we created a separate column for the 'processed_title' because we wanted to preserve the original title because we wanted to serve the original titles in the web interface\n",
    "2. we also normalized the numeric 'scores'"
   ]
  },
  {
   "cell_type": "code",
   "execution_count": null,
   "metadata": {
    "ExecuteTime": {
     "end_time": "2020-04-13T05:22:52.983184Z",
     "start_time": "2020-04-13T05:22:52.458Z"
    }
   },
   "outputs": [],
   "source": [
    "import spacy\n",
    "EN = spacy.load('en_core_web_sm')\n",
    "\n",
    "# Preprocess text for 'question_body', 'post_corpus' and a new column 'processed_title'\n",
    "final_data.question_content = final_data.question_content.apply(lambda x: preprocess_text(x))\n",
    "final_data.post_corpus = final_data.post_corpus.apply(lambda x: preprocess_text(x))\n",
    "final_data['processed_title'] = final_data.original_title.apply(lambda x: preprocess_text(x))\n",
    "\n",
    "# Normalize numeric data for the scores\n",
    "final_data.overall_scores = (final_data.overall_scores - final_data.overall_scores.mean()) / (final_data.overall_scores.max() - final_data.overall_scores.min())"
   ]
  },
  {
   "cell_type": "code",
   "execution_count": null,
   "metadata": {},
   "outputs": [],
   "source": [
    "final_data.tags = final_data.tags.apply(lambda x: '|'.join(x))    # Combine the lists back into text data\n",
    "final_data.drop(['answers_content'], axis=1)     # Remove the answers_content columns because it is alreaady included in the corpus"
   ]
  }
 ],
 "metadata": {
  "kernelspec": {
   "display_name": "Python 3",
   "language": "python",
   "name": "python3"
  },
  "toc": {
   "base_numbering": 1,
   "nav_menu": {},
   "number_sections": true,
   "sideBar": true,
   "skip_h1_title": false,
   "title_cell": "Table of Contents",
   "title_sidebar": "Contents",
   "toc_cell": false,
   "toc_position": {},
   "toc_section_display": true,
   "toc_window_display": false
  },
  "varInspector": {
   "cols": {
    "lenName": 16,
    "lenType": 16,
    "lenVar": 40
   },
   "kernels_config": {
    "python": {
     "delete_cmd_postfix": "",
     "delete_cmd_prefix": "del ",
     "library": "var_list.py",
     "varRefreshCmd": "print(var_dic_list())"
    },
    "r": {
     "delete_cmd_postfix": ") ",
     "delete_cmd_prefix": "rm(",
     "library": "var_list.r",
     "varRefreshCmd": "cat(var_dic_list()) "
    }
   },
   "types_to_exclude": [
    "module",
    "function",
    "builtin_function_or_method",
    "instance",
    "_Feature"
   ],
   "window_display": false
  }
 },
 "nbformat": 4,
 "nbformat_minor": 4
}
