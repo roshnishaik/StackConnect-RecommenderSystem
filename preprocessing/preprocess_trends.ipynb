{
 "cells": [
  {
   "cell_type": "code",
   "execution_count": 1,
   "metadata": {
    "ExecuteTime": {
     "end_time": "2020-04-11T13:18:40.583016Z",
     "start_time": "2020-04-11T13:18:17.340038Z"
    }
   },
   "outputs": [],
   "source": [
    "from google.cloud import bigquery\n",
    "import queries as query\n",
    "\n",
    "client = bigquery.Client()\n",
    "query_job = client.query(query.get_users)\n",
    "df = query_job.to_dataframe()"
   ]
  },
  {
   "cell_type": "code",
   "execution_count": 11,
   "metadata": {
    "ExecuteTime": {
     "end_time": "2020-04-11T13:31:47.574409Z",
     "start_time": "2020-04-11T13:31:47.471996Z"
    }
   },
   "outputs": [
    {
     "name": "stdout",
     "output_type": "stream",
     "text": [
      "id                   200000\n",
      "display_name         200000\n",
      "about_me              19007\n",
      "location              49419\n",
      "reputation           200000\n",
      "up_votes             200000\n",
      "down_votes           200000\n",
      "views                200000\n",
      "profile_image_url    149729\n",
      "website_url           13868\n",
      "dtype: int64\n"
     ]
    }
   ],
   "source": [
    "print(df.count())"
   ]
  },
  {
   "cell_type": "code",
   "execution_count": 2,
   "metadata": {
    "ExecuteTime": {
     "end_time": "2020-04-12T00:35:59.372688Z",
     "start_time": "2020-04-12T00:35:53.308360Z"
    }
   },
   "outputs": [],
   "source": [
    "import json\n",
    "\n",
    "data = \"./data/users.json\"\n",
    "\n",
    "id_dict = {}\n",
    "\n",
    "with open(data) as file:\n",
    "    lines = file.readlines()\n",
    "    for line in lines:\n",
    "        user = json.loads(line)\n",
    "        user_id = user[\"id\"]\n",
    "        del user[\"id\"]\n",
    "        id_dict[user_id] = user\n",
    "\n",
    "master_dict = {}\n",
    "user_dict = {}\n",
    "user_dict[\"id\"] = id_dict\n",
    "master_dict[\"users\"] = user_dict\n",
    "\n",
    "        \n",
    "with open(\"./data/users_processed.json\", \"w\") as file:\n",
    "    file.write(json.dumps(master_dict))\n",
    "        "
   ]
  },
  {
   "cell_type": "code",
   "execution_count": 10,
   "metadata": {
    "ExecuteTime": {
     "end_time": "2020-04-12T05:59:07.691769Z",
     "start_time": "2020-04-12T05:59:05.878475Z"
    }
   },
   "outputs": [
    {
     "data": {
      "text/plain": [
       "{'display_name': 'Jeff Atwood',\n",
       " 'about_me': '<p><a href=\"http://www.codinghorror.com/blog/archives/001169.html\" rel=\"nofollow\">Stack Overflow Valued Associate #00001</a></p>\\n\\n<p>Wondering how our software development process works? <a href=\"http://www.youtube.com/watch?v=08xQLGWTSag\" rel=\"nofollow\">Take a look!</a></p>\\n\\n<p>Find me <a href=\"http://twitter.com/codinghorror\" rel=\"nofollow\">on twitter</a>, or <a href=\"http://www.codinghorror.com/blog\" rel=\"nofollow\">read my blog</a>. Don\\'t say I didn\\'t warn you <em>because I totally did</em>.</p>\\n\\n<p>However, <a href=\"http://www.codinghorror.com/blog/2012/02/farewell-stack-exchange.html\" rel=\"nofollow\">I no longer work at Stack Exchange, Inc</a>. I\\'ll miss you all. Well, <em>some</em> of you, anyway. :)</p>',\n",
       " 'location': 'El Cerrito, CA',\n",
       " 'reputation': '58679',\n",
       " 'up_votes': '3378',\n",
       " 'down_votes': '1311',\n",
       " 'views': '532726',\n",
       " 'profile_image_url': 'https://www.gravatar.com/avatar/51d623f33f8b83095db84ff35e15dbe8?s=128&amp;d=identicon&amp;r=PG',\n",
       " 'website_url': 'http://www.codinghorror.com/blog/'}"
      ]
     },
     "execution_count": 10,
     "metadata": {},
     "output_type": "execute_result"
    }
   ],
   "source": [
    "import pandas as pd\n",
    "\n",
    "#pd.read_json(\"./data/users_processed.json\")\n",
    "\n",
    "with open(\"./data/users_processed.json\") as f:\n",
    "  data = json.load(f)\n",
    "\n",
    "data[\"users\"][\"id\"][\"1\"]\n",
    "\n",
    "# if \"1\" in users[\"users\"][\"id\"]:\n",
    "#  \t\tprint(True, users[\"users\"][\"id\"][\"1\"])"
   ]
  },
  {
   "cell_type": "code",
   "execution_count": 11,
   "metadata": {
    "ExecuteTime": {
     "end_time": "2020-04-12T10:29:09.421568Z",
     "start_time": "2020-04-12T10:29:08.896870Z"
    }
   },
   "outputs": [],
   "source": [
    "import requests\n",
    "user_data = requests.get(\"https://stackconnect.firebaseio.com/active_user.json\")"
   ]
  },
  {
   "cell_type": "code",
   "execution_count": 16,
   "metadata": {
    "ExecuteTime": {
     "end_time": "2020-04-12T10:33:18.441370Z",
     "start_time": "2020-04-12T10:33:18.428347Z"
    }
   },
   "outputs": [
    {
     "name": "stdout",
     "output_type": "stream",
     "text": [
      "{'about_me': '<p><a href=\"http://www.codinghorror.com/blog/archives/001169.html\" rel=\"nofollow\">Stack Overflow Valued Associate #00001</a></p>\\n\\n<p>Wondering how our software development process works? <a href=\"http://www.youtube.com/watch?v=08xQLGWTSag\" rel=\"nofollow\">Take a look!</a></p>\\n\\n<p>Find me <a href=\"http://twitter.com/codinghorror\" rel=\"nofollow\">on twitter</a>, or <a href=\"http://www.codinghorror.com/blog\" rel=\"nofollow\">read my blog</a>. Don\\'t say I didn\\'t warn you <em>because I totally did</em>.</p>\\n\\n<p>However, <a href=\"http://www.codinghorror.com/blog/2012/02/farewell-stack-exchange.html\" rel=\"nofollow\">I no longer work at Stack Exchange, Inc</a>. I\\'ll miss you all. Well, <em>some</em> of you, anyway. :)</p>', 'display_name': 'Jeff Atwood', 'down_votes': '1311', 'location': 'El Cerrito, CA', 'profile_image_url': 'https://www.gravatar.com/avatar/51d623f33f8b83095db84ff35e15dbe8?s=128&amp;d=identicon&amp;r=PG', 'reputation': '58679', 'up_votes': '3378', 'views': '532726', 'website_url': 'http://www.codinghorror.com/blog/'}\n"
     ]
    }
   ],
   "source": [
    "print(json.loads(user_data.text))"
   ]
  },
  {
   "cell_type": "code",
   "execution_count": 19,
   "metadata": {
    "ExecuteTime": {
     "end_time": "2020-04-12T11:01:48.630036Z",
     "start_time": "2020-04-12T11:01:48.621765Z"
    }
   },
   "outputs": [
    {
     "name": "stdout",
     "output_type": "stream",
     "text": [
      "<img src=\"user_img\" alt=\"Avatar\" style=\"width:200px\">\n",
      "\n",
      "\t\t\n"
     ]
    }
   ],
   "source": [
    "dp = \"\"\"<img src=\"{}\" alt=\"Avatar\" style=\"width:200px\">\n",
    "\n",
    "\t\t\"\"\".format(\"user_img\")\n",
    "print(dp)"
   ]
  },
  {
   "cell_type": "code",
   "execution_count": 24,
   "metadata": {
    "ExecuteTime": {
     "end_time": "2020-04-12T21:59:40.645503Z",
     "start_time": "2020-04-12T21:59:39.219009Z"
    }
   },
   "outputs": [],
   "source": [
    "master_list = []\n",
    "with open('./data/trends.json') as f:\n",
    "    lines = f.readlines()\n",
    "\n",
    "for line in lines:\n",
    "    master_list.append(line)\n",
    "\n",
    "with open('./data/trends_processed.json', 'w') as f:\n",
    "    f.write(json.dumps(master_list))"
   ]
  },
  {
   "cell_type": "code",
   "execution_count": 48,
   "metadata": {
    "ExecuteTime": {
     "end_time": "2020-04-13T01:11:10.147002Z",
     "start_time": "2020-04-13T01:10:29.464773Z"
    }
   },
   "outputs": [
    {
     "name": "stdout",
     "output_type": "stream",
     "text": [
      "   year                                tags\n",
      "0  2019                  xslt-3.0|oxygenxml\n",
      "1  2019                       java|generics\n",
      "2  2019              javascript|reactjs|api\n",
      "3  2019                         c#|json.net\n",
      "4  2019                   c|date-conversion\n",
      "5  2019       c#|.net|winforms|datagridview\n",
      "6  2019  java|c#|android|garbage-collection\n",
      "7  2019             sql|sql-server|coalesce\n",
      "8  2019              javascript|redux|state\n",
      "9  2019              python|python-3.x|list\n"
     ]
    }
   ],
   "source": [
    "import pandas as pd \n",
    "\n",
    "df = pd.read_csv('./data/trends_big.csv')\n",
    "print(df.head(10))"
   ]
  },
  {
   "cell_type": "code",
   "execution_count": null,
   "metadata": {
    "ExecuteTime": {
     "start_time": "2020-04-13T01:10:34.176Z"
    }
   },
   "outputs": [
    {
     "name": "stdout",
     "output_type": "stream",
     "text": [
      "   year                                tags\n",
      "0  2019                  xslt-3.0|oxygenxml\n",
      "1  2019                       java|generics\n",
      "2  2019              javascript|reactjs|api\n",
      "3  2019                         c#|json.net\n",
      "4  2019                   c|date-conversion\n",
      "5  2019       c#|.net|winforms|datagridview\n",
      "6  2019  java|c#|android|garbage-collection\n",
      "7  2019             sql|sql-server|coalesce\n",
      "8  2019              javascript|redux|state\n",
      "9  2019              python|python-3.x|list\n"
     ]
    }
   ],
   "source": [
    "df = df.fillna('')\n",
    "print(df.head(10))\n",
    "df['tags'] = df['tags'].apply(lambda x : x.split('|'))"
   ]
  },
  {
   "cell_type": "code",
   "execution_count": null,
   "metadata": {
    "ExecuteTime": {
     "start_time": "2020-04-13T01:10:35.338Z"
    }
   },
   "outputs": [],
   "source": [
    "df.head(5)"
   ]
  },
  {
   "cell_type": "code",
   "execution_count": null,
   "metadata": {
    "ExecuteTime": {
     "start_time": "2020-04-13T01:10:37.808Z"
    }
   },
   "outputs": [],
   "source": [
    "df = df.explode('tags')"
   ]
  },
  {
   "cell_type": "code",
   "execution_count": null,
   "metadata": {
    "ExecuteTime": {
     "start_time": "2020-04-13T01:10:40.725Z"
    }
   },
   "outputs": [],
   "source": [
    "df[df['year'] == 2010].head(5)"
   ]
  },
  {
   "cell_type": "code",
   "execution_count": null,
   "metadata": {},
   "outputs": [],
   "source": [
    "import matplotlib.pyplot as plt\n",
    "\n",
    "df.groupby('year', as_index=False).size().plot(kind='bar')\n",
    "plt.show()"
   ]
  },
  {
   "cell_type": "code",
   "execution_count": 37,
   "metadata": {
    "ExecuteTime": {
     "end_time": "2020-04-13T00:18:36.589149Z",
     "start_time": "2020-04-13T00:18:34.506354Z"
    }
   },
   "outputs": [],
   "source": [
    "new_df = df.groupby('year')['tags'].apply(list).reset_index(name = 'tag_list')"
   ]
  },
  {
   "cell_type": "code",
   "execution_count": 38,
   "metadata": {
    "ExecuteTime": {
     "end_time": "2020-04-13T00:18:38.217219Z",
     "start_time": "2020-04-13T00:18:38.165678Z"
    }
   },
   "outputs": [
    {
     "data": {
      "text/html": [
       "<div>\n",
       "<style scoped>\n",
       "    .dataframe tbody tr th:only-of-type {\n",
       "        vertical-align: middle;\n",
       "    }\n",
       "\n",
       "    .dataframe tbody tr th {\n",
       "        vertical-align: top;\n",
       "    }\n",
       "\n",
       "    .dataframe thead th {\n",
       "        text-align: right;\n",
       "    }\n",
       "</style>\n",
       "<table border=\"1\" class=\"dataframe\">\n",
       "  <thead>\n",
       "    <tr style=\"text-align: right;\">\n",
       "      <th></th>\n",
       "      <th>year</th>\n",
       "      <th>tag_list</th>\n",
       "    </tr>\n",
       "  </thead>\n",
       "  <tbody>\n",
       "    <tr>\n",
       "      <th>0</th>\n",
       "      <td>2008</td>\n",
       "      <td>[php, scripting, code-generation, python, seri...</td>\n",
       "    </tr>\n",
       "    <tr>\n",
       "      <th>1</th>\n",
       "      <td>2009</td>\n",
       "      <td>[oracle, jdbc, javascript, visual-studio, plug...</td>\n",
       "    </tr>\n",
       "    <tr>\n",
       "      <th>2</th>\n",
       "      <td>2010</td>\n",
       "      <td>[python, continuous-integration, hudson, virtu...</td>\n",
       "    </tr>\n",
       "    <tr>\n",
       "      <th>3</th>\n",
       "      <td>2011</td>\n",
       "      <td>[data-visualization, stata, mysql, select, c#,...</td>\n",
       "    </tr>\n",
       "    <tr>\n",
       "      <th>4</th>\n",
       "      <td>2012</td>\n",
       "      <td>[ios, air, cuda, java, eclipse, ide, c#, asp.n...</td>\n",
       "    </tr>\n",
       "    <tr>\n",
       "      <th>5</th>\n",
       "      <td>2013</td>\n",
       "      <td>[provisioning, azure-web-sites, c#, .net, gett...</td>\n",
       "    </tr>\n",
       "    <tr>\n",
       "      <th>6</th>\n",
       "      <td>2014</td>\n",
       "      <td>[python, scipy, sparse-matrix, javascript, jqu...</td>\n",
       "    </tr>\n",
       "    <tr>\n",
       "      <th>7</th>\n",
       "      <td>2015</td>\n",
       "      <td>[activemq, apache-kafka, distributed-computing...</td>\n",
       "    </tr>\n",
       "    <tr>\n",
       "      <th>8</th>\n",
       "      <td>2016</td>\n",
       "      <td>[html, css, css3, flexbox, python, api, pandas...</td>\n",
       "    </tr>\n",
       "    <tr>\n",
       "      <th>9</th>\n",
       "      <td>2017</td>\n",
       "      <td>[php, wordpress, woocommerce, javascript, html...</td>\n",
       "    </tr>\n",
       "  </tbody>\n",
       "</table>\n",
       "</div>"
      ],
      "text/plain": [
       "   year                                           tag_list\n",
       "0  2008  [php, scripting, code-generation, python, seri...\n",
       "1  2009  [oracle, jdbc, javascript, visual-studio, plug...\n",
       "2  2010  [python, continuous-integration, hudson, virtu...\n",
       "3  2011  [data-visualization, stata, mysql, select, c#,...\n",
       "4  2012  [ios, air, cuda, java, eclipse, ide, c#, asp.n...\n",
       "5  2013  [provisioning, azure-web-sites, c#, .net, gett...\n",
       "6  2014  [python, scipy, sparse-matrix, javascript, jqu...\n",
       "7  2015  [activemq, apache-kafka, distributed-computing...\n",
       "8  2016  [html, css, css3, flexbox, python, api, pandas...\n",
       "9  2017  [php, wordpress, woocommerce, javascript, html..."
      ]
     },
     "execution_count": 38,
     "metadata": {},
     "output_type": "execute_result"
    }
   ],
   "source": [
    "new_df.head(10)"
   ]
  },
  {
   "cell_type": "code",
   "execution_count": 39,
   "metadata": {
    "ExecuteTime": {
     "end_time": "2020-04-13T00:18:42.882267Z",
     "start_time": "2020-04-13T00:18:42.290376Z"
    }
   },
   "outputs": [],
   "source": [
    "new_df.to_csv(\"processed_trends.csv\", index=False)"
   ]
  },
  {
   "cell_type": "code",
   "execution_count": 47,
   "metadata": {
    "ExecuteTime": {
     "end_time": "2020-04-13T00:37:24.453944Z",
     "start_time": "2020-04-13T00:37:24.440430Z"
    }
   },
   "outputs": [
    {
     "data": {
      "text/plain": [
       "35384"
      ]
     },
     "execution_count": 47,
     "metadata": {},
     "output_type": "execute_result"
    }
   ],
   "source": [
    "len(list(new_df[new_df['year'] == 2014]['tag_list'])[0])"
   ]
  },
  {
   "cell_type": "code",
   "execution_count": 1,
   "metadata": {
    "ExecuteTime": {
     "end_time": "2020-04-13T23:15:47.487344Z",
     "start_time": "2020-04-13T23:15:28.938235Z"
    }
   },
   "outputs": [
    {
     "name": "stdout",
     "output_type": "stream",
     "text": [
      "   year                                tags\n",
      "0  2019                  xslt-3.0|oxygenxml\n",
      "1  2019                       java|generics\n",
      "2  2019              javascript|reactjs|api\n",
      "3  2019                         c#|json.net\n",
      "4  2019                   c|date-conversion\n",
      "5  2019       c#|.net|winforms|datagridview\n",
      "6  2019  java|c#|android|garbage-collection\n",
      "7  2019             sql|sql-server|coalesce\n",
      "8  2019              javascript|redux|state\n",
      "9  2019              python|python-3.x|list\n"
     ]
    }
   ],
   "source": [
    "import pandas as pd \n",
    "\n",
    "df = pd.read_csv('./data/trends_big.csv')\n",
    "print(df.head(10))"
   ]
  },
  {
   "cell_type": "code",
   "execution_count": null,
   "metadata": {},
   "outputs": [],
   "source": [
    "df = df.fillna('')\n",
    "df['tags'] = df['tags'].apply(lambda x : x.split('|'))\n"
   ]
  },
  {
   "cell_type": "code",
   "execution_count": 54,
   "metadata": {
    "ExecuteTime": {
     "end_time": "2020-04-14T01:55:24.455891Z",
     "start_time": "2020-04-14T01:55:22.795207Z"
    }
   },
   "outputs": [
    {
     "name": "stderr",
     "output_type": "stream",
     "text": [
      "IOPub data rate exceeded.\n",
      "The notebook server will temporarily stop sending output\n",
      "to the client in order to avoid crashing it.\n",
      "To change this limit, set the config variable\n",
      "`--NotebookApp.iopub_data_rate_limit`.\n",
      "\n",
      "Current values:\n",
      "NotebookApp.iopub_data_rate_limit=1000000.0 (bytes/sec)\n",
      "NotebookApp.rate_limit_window=3.0 (secs)\n",
      "\n"
     ]
    }
   ],
   "source": [
    "from collections import Counter\n",
    "df = pd.read_csv('./data/trends.csv')\n",
    "\n",
    "tags = df[df['year'] == 2018]['tags'].values\n",
    "print(tags)\n",
    "#top_tags = dict(tags.most_common(10))\n",
    "# print(top_tags)"
   ]
  },
  {
   "cell_type": "code",
   "execution_count": null,
   "metadata": {},
   "outputs": [],
   "source": []
  }
 ],
 "metadata": {
  "kernelspec": {
   "display_name": "Python 3",
   "language": "python",
   "name": "python3"
  },
  "language_info": {
   "codemirror_mode": {
    "name": "ipython",
    "version": 3
   },
   "file_extension": ".py",
   "mimetype": "text/x-python",
   "name": "python",
   "nbconvert_exporter": "python",
   "pygments_lexer": "ipython3",
   "version": "3.7.3"
  },
  "toc": {
   "base_numbering": 1,
   "nav_menu": {},
   "number_sections": true,
   "sideBar": true,
   "skip_h1_title": false,
   "title_cell": "Table of Contents",
   "title_sidebar": "Contents",
   "toc_cell": false,
   "toc_position": {},
   "toc_section_display": true,
   "toc_window_display": false
  },
  "varInspector": {
   "cols": {
    "lenName": 16,
    "lenType": 16,
    "lenVar": 40
   },
   "kernels_config": {
    "python": {
     "delete_cmd_postfix": "",
     "delete_cmd_prefix": "del ",
     "library": "var_list.py",
     "varRefreshCmd": "print(var_dic_list())"
    },
    "r": {
     "delete_cmd_postfix": ") ",
     "delete_cmd_prefix": "rm(",
     "library": "var_list.r",
     "varRefreshCmd": "cat(var_dic_list()) "
    }
   },
   "types_to_exclude": [
    "module",
    "function",
    "builtin_function_or_method",
    "instance",
    "_Feature"
   ],
   "window_display": false
  }
 },
 "nbformat": 4,
 "nbformat_minor": 2
}
