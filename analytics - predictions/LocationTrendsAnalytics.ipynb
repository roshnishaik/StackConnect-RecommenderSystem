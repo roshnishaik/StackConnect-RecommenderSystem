{
 "cells": [
  {
   "cell_type": "code",
   "execution_count": 294,
   "metadata": {},
   "outputs": [],
   "source": [
    "%matplotlib inline\n",
    "import numpy as np \n",
    "import pandas as pd \n",
    "import nltk\n",
    "import matplotlib.pyplot as plt"
   ]
  },
  {
   "cell_type": "code",
   "execution_count": 295,
   "metadata": {},
   "outputs": [
    {
     "data": {
      "text/plain": [
       "count      500000\n",
       "unique     305000\n",
       "top       android\n",
       "freq         2598\n",
       "Name: tags, dtype: object"
      ]
     },
     "execution_count": 295,
     "metadata": {},
     "output_type": "execute_result"
    }
   ],
   "source": [
    "# read the csv file\n",
    "df = pd.read_csv('location_trends_2.csv')\n",
    "df['tags'].describe()"
   ]
  },
  {
   "cell_type": "code",
   "execution_count": 296,
   "metadata": {},
   "outputs": [
    {
     "data": {
      "text/html": [
       "<div>\n",
       "<style scoped>\n",
       "    .dataframe tbody tr th:only-of-type {\n",
       "        vertical-align: middle;\n",
       "    }\n",
       "\n",
       "    .dataframe tbody tr th {\n",
       "        vertical-align: top;\n",
       "    }\n",
       "\n",
       "    .dataframe thead th {\n",
       "        text-align: right;\n",
       "    }\n",
       "</style>\n",
       "<table border=\"1\" class=\"dataframe\">\n",
       "  <thead>\n",
       "    <tr style=\"text-align: right;\">\n",
       "      <th></th>\n",
       "      <th>id</th>\n",
       "      <th>location</th>\n",
       "      <th>tags</th>\n",
       "    </tr>\n",
       "  </thead>\n",
       "  <tbody>\n",
       "    <tr>\n",
       "      <th>0</th>\n",
       "      <td>162338</td>\n",
       "      <td>San Jose, CA, USA</td>\n",
       "      <td>[machine-learning, accelerometer]</td>\n",
       "    </tr>\n",
       "    <tr>\n",
       "      <th>1</th>\n",
       "      <td>162338</td>\n",
       "      <td>San Jose, CA, USA</td>\n",
       "      <td>[python, robotframework]</td>\n",
       "    </tr>\n",
       "    <tr>\n",
       "      <th>2</th>\n",
       "      <td>162338</td>\n",
       "      <td>San Jose, CA, USA</td>\n",
       "      <td>[data-structures]</td>\n",
       "    </tr>\n",
       "    <tr>\n",
       "      <th>3</th>\n",
       "      <td>162338</td>\n",
       "      <td>San Jose, CA, USA</td>\n",
       "      <td>[video, image-processing]</td>\n",
       "    </tr>\n",
       "    <tr>\n",
       "      <th>4</th>\n",
       "      <td>162338</td>\n",
       "      <td>San Jose, CA, USA</td>\n",
       "      <td>[python, antlr4]</td>\n",
       "    </tr>\n",
       "    <tr>\n",
       "      <th>...</th>\n",
       "      <td>...</td>\n",
       "      <td>...</td>\n",
       "      <td>...</td>\n",
       "    </tr>\n",
       "    <tr>\n",
       "      <th>499995</th>\n",
       "      <td>5031965</td>\n",
       "      <td>Vevey, Switzerland</td>\n",
       "      <td>[python, python-3.x]</td>\n",
       "    </tr>\n",
       "    <tr>\n",
       "      <th>499996</th>\n",
       "      <td>5031965</td>\n",
       "      <td>Vevey, Switzerland</td>\n",
       "      <td>[python, python-3.x]</td>\n",
       "    </tr>\n",
       "    <tr>\n",
       "      <th>499997</th>\n",
       "      <td>5031965</td>\n",
       "      <td>Vevey, Switzerland</td>\n",
       "      <td>[python, python-3.x]</td>\n",
       "    </tr>\n",
       "    <tr>\n",
       "      <th>499998</th>\n",
       "      <td>5031965</td>\n",
       "      <td>Vevey, Switzerland</td>\n",
       "      <td>[python, django, django-views]</td>\n",
       "    </tr>\n",
       "    <tr>\n",
       "      <th>499999</th>\n",
       "      <td>5031965</td>\n",
       "      <td>Vevey, Switzerland</td>\n",
       "      <td>[javascript, angularjs]</td>\n",
       "    </tr>\n",
       "  </tbody>\n",
       "</table>\n",
       "<p>500000 rows × 3 columns</p>\n",
       "</div>"
      ],
      "text/plain": [
       "             id            location                               tags\n",
       "0        162338   San Jose, CA, USA  [machine-learning, accelerometer]\n",
       "1        162338   San Jose, CA, USA           [python, robotframework]\n",
       "2        162338   San Jose, CA, USA                  [data-structures]\n",
       "3        162338   San Jose, CA, USA          [video, image-processing]\n",
       "4        162338   San Jose, CA, USA                   [python, antlr4]\n",
       "...         ...                 ...                                ...\n",
       "499995  5031965  Vevey, Switzerland               [python, python-3.x]\n",
       "499996  5031965  Vevey, Switzerland               [python, python-3.x]\n",
       "499997  5031965  Vevey, Switzerland               [python, python-3.x]\n",
       "499998  5031965  Vevey, Switzerland     [python, django, django-views]\n",
       "499999  5031965  Vevey, Switzerland            [javascript, angularjs]\n",
       "\n",
       "[500000 rows x 3 columns]"
      ]
     },
     "execution_count": 296,
     "metadata": {},
     "output_type": "execute_result"
    }
   ],
   "source": [
    "# perform the data cleaning and split the tags column into a list\n",
    "df = df.fillna(\"\")\n",
    "df['tags'] = df['tags'].apply(lambda x: x.split('|'))\n",
    "df"
   ]
  },
  {
   "cell_type": "code",
   "execution_count": 297,
   "metadata": {},
   "outputs": [],
   "source": [
    "# get the list of all tags\n",
    "all_tags = [item for sublist in df['tags'].values for item in sublist]"
   ]
  },
  {
   "cell_type": "code",
   "execution_count": 298,
   "metadata": {},
   "outputs": [
    {
     "name": "stdout",
     "output_type": "stream",
     "text": [
      "['javascript', 'java', 'c#', 'php', 'android', 'python', 'jquery', 'html', 'ios', 'c++']\n"
     ]
    }
   ],
   "source": [
    "# find the frequency distribution of those tags and fetch top 10 tags\n",
    "keywords = nltk.FreqDist(all_tags)\n",
    "frequency_dist=keywords.most_common(10)[0:]\n",
    "top_10_tags=[freq[0] for freq in frequency_dist]\n",
    "del keywords['']\n",
    "\n",
    "#top_tags = ','.join(top_100_tags)\n",
    "print(top_10_tags)"
   ]
  },
  {
   "cell_type": "code",
   "execution_count": 300,
   "metadata": {},
   "outputs": [],
   "source": [
    "# filter those records which have the top tags\n",
    "def check_list(list):\n",
    "    popular_count = 0\n",
    "    for i in list:\n",
    "        if i in top_100_tags:\n",
    "            popular_count += 1\n",
    "    return popular_count\n",
    "\n",
    "df['popular_count'] = df['tags'].apply(lambda x: check_list(x))\n",
    "\n",
    "# filter those records with top tags count greater than 4\n",
    "df = df[df['popular_count'] > 4]"
   ]
  },
  {
   "cell_type": "code",
   "execution_count": 301,
   "metadata": {},
   "outputs": [
    {
     "data": {
      "text/plain": [
       "array([5, 5, 5, 5, 5, 5, 5, 5, 5, 5, 5, 5, 5, 5, 5, 5, 5, 5, 5, 5, 5, 5,\n",
       "       5, 5, 5, 5, 5, 5, 5, 5, 5, 5, 5, 5, 5, 5, 5, 5, 5, 5, 5, 5, 5, 5,\n",
       "       5, 5, 5, 5, 5, 5, 5, 5, 5, 5, 5, 5, 5, 5, 5, 5, 5, 5, 5, 5, 5, 5,\n",
       "       5, 5, 5, 5, 5, 5, 5, 5, 5, 5, 5, 5, 5, 5, 5, 5, 5, 5, 5, 5, 5, 5,\n",
       "       5, 5, 5, 5, 5, 5, 5, 5, 5, 5, 5, 5, 5, 5, 5, 5, 5, 5, 5, 5, 5, 5,\n",
       "       5, 5, 5, 5, 5, 5, 5, 5, 5, 5, 5, 5, 5, 5, 5, 5, 5, 5, 5, 5, 5, 5,\n",
       "       5, 5, 5, 5, 5, 5, 5, 5, 5, 5, 5, 5, 5, 5, 5, 5, 5, 5, 5, 5, 5, 5,\n",
       "       5, 5, 5, 5, 5, 5, 5, 5, 5, 5, 5, 5, 5, 5, 5, 5, 5, 5, 5, 5, 5, 5,\n",
       "       5, 5, 5, 5, 5, 5, 5, 5, 5, 5, 5, 5, 5, 5, 5, 5, 5, 5, 5, 5, 5, 5,\n",
       "       5, 5, 5, 5, 5, 5, 5, 5, 5, 5, 5, 5, 5, 5, 5, 5, 5, 5, 5, 5, 5, 5,\n",
       "       5, 5, 5, 5, 5, 5, 5, 5, 5, 5, 5, 5, 5, 5, 5, 5, 5, 5, 5, 5, 5, 5,\n",
       "       5, 5, 5, 5, 5, 5, 5, 5, 5, 5, 5, 5, 5, 5, 5, 5, 5, 5, 5, 5, 5, 5,\n",
       "       5, 5, 5, 5, 5, 5, 5, 5, 5, 5, 5, 5, 5, 5, 5, 5, 5, 5, 5, 5, 5, 5,\n",
       "       5, 5, 5, 5, 5, 5, 5, 5, 5, 5, 5, 5, 5, 5, 5, 5, 5, 5, 5, 5, 5, 5,\n",
       "       5, 5, 5, 5, 5, 5, 5, 5, 5, 5, 5, 5, 5, 5, 5, 5, 5, 5, 5, 5, 5, 5,\n",
       "       5, 5, 5, 5, 5, 5, 5, 5, 5, 5, 5, 5, 5, 5, 5, 5, 5, 5, 5, 5, 5, 5,\n",
       "       5, 5, 5, 5, 5, 5, 5, 5, 5, 5, 5, 5, 5, 5, 5, 5, 5, 5, 5, 5, 5, 5,\n",
       "       5, 5, 5, 5, 5, 5, 5, 5, 5, 5, 5, 5, 5, 5, 5, 5, 5, 5, 5, 5, 5, 5,\n",
       "       5, 5, 5, 5, 5, 5, 5, 5, 5, 5, 5, 5, 5, 5, 5, 5, 5, 5, 5, 5, 5, 5,\n",
       "       5, 5, 5, 5, 5, 5, 5, 5, 5, 5, 5, 5, 5, 5, 5, 5, 5, 5, 5, 5, 5, 5,\n",
       "       5, 5, 5, 5, 5, 5, 5, 5, 5, 5, 5, 5, 5, 5, 5, 5, 5, 5, 5, 5, 5, 5,\n",
       "       5, 5, 5, 5, 5, 5, 5, 5, 5, 5, 5, 5, 5, 5, 5, 5, 5, 5, 5, 5, 5, 5,\n",
       "       5, 5, 5, 5, 5, 5, 5, 5, 5, 5, 5, 5, 5, 5, 5, 5, 5, 5, 5, 5, 5, 5,\n",
       "       5, 5, 5, 5, 5, 5, 5, 5, 5, 5, 5, 5, 5, 5, 5, 5, 5, 5, 5, 5, 5, 5,\n",
       "       5, 5, 5, 5, 5, 5, 5, 5, 5, 5, 5, 5, 5, 5, 5, 5, 5, 5, 5, 5, 5, 5,\n",
       "       5, 5, 5, 5, 5, 5, 5, 5, 5, 5, 5, 5, 5, 5, 5, 5, 5, 5, 5, 5, 5, 5,\n",
       "       5, 5, 5, 5, 5, 5, 5, 5, 5, 5, 5, 5, 5, 5, 5, 5, 5, 5, 5, 5])"
      ]
     },
     "execution_count": 301,
     "metadata": {},
     "output_type": "execute_result"
    }
   ],
   "source": [
    "df['popular_count'].values"
   ]
  },
  {
   "cell_type": "code",
   "execution_count": 302,
   "metadata": {},
   "outputs": [],
   "source": [
    "# group by location and tags\n",
    "df = df.groupby('location')['tags'].apply(list).reset_index(name='tag_list')\n",
    "df = df['location']\n",
    "df.to_csv('location_list.csv', index=False)"
   ]
  },
  {
   "cell_type": "code",
   "execution_count": 256,
   "metadata": {},
   "outputs": [],
   "source": [
    "# compute the latitude and longitude of the location using the maps API\n",
    "import requests\n",
    "\n",
    "def geocodeAddress(streetaddress):\n",
    "    \n",
    "    # replace with your api key\n",
    "    apikey = '<your-api-key>'\n",
    "    streetaddress.replace(' ', '+')\n",
    "    url = 'https://maps.googleapis.com/maps/api/geocode/json?address='+streetaddress+'&key='+apikey\n",
    "    \n",
    "    req = requests.get(url)\n",
    "    response = req.json()\n",
    "    \n",
    "    if response['results'] != []: \n",
    "        result = response['results'][0]\n",
    "        geodata = str(result['geometry']['location']['lat']) + ',' + str(result['geometry']['location']['lng'])\n",
    "    else:\n",
    "        geodata = ''\n",
    "    return geodata"
   ]
  },
  {
   "cell_type": "code",
   "execution_count": 257,
   "metadata": {},
   "outputs": [
    {
     "name": "stderr",
     "output_type": "stream",
     "text": [
      "/home/roshni/.local/lib/python3.6/site-packages/ipykernel_launcher.py:2: SettingWithCopyWarning: \n",
      "A value is trying to be set on a copy of a slice from a DataFrame.\n",
      "Try using .loc[row_indexer,col_indexer] = value instead\n",
      "\n",
      "See the caveats in the documentation: https://pandas.pydata.org/pandas-docs/stable/user_guide/indexing.html#returning-a-view-versus-a-copy\n",
      "  \n"
     ]
    },
    {
     "data": {
      "text/html": [
       "<div>\n",
       "<style scoped>\n",
       "    .dataframe tbody tr th:only-of-type {\n",
       "        vertical-align: middle;\n",
       "    }\n",
       "\n",
       "    .dataframe tbody tr th {\n",
       "        vertical-align: top;\n",
       "    }\n",
       "\n",
       "    .dataframe thead th {\n",
       "        text-align: right;\n",
       "    }\n",
       "</style>\n",
       "<table border=\"1\" class=\"dataframe\">\n",
       "  <thead>\n",
       "    <tr style=\"text-align: right;\">\n",
       "      <th></th>\n",
       "      <th>location</th>\n",
       "      <th>tag_list</th>\n",
       "    </tr>\n",
       "  </thead>\n",
       "  <tbody>\n",
       "    <tr>\n",
       "      <th>0</th>\n",
       "      <td>-34.8488008,138.5151734</td>\n",
       "      <td>[[javascript, php, jquery, html, css]]</td>\n",
       "    </tr>\n",
       "    <tr>\n",
       "      <th>1</th>\n",
       "      <td>57.0488195,9.921747</td>\n",
       "      <td>[[php, javascript, jquery, html, ajax]]</td>\n",
       "    </tr>\n",
       "    <tr>\n",
       "      <th>2</th>\n",
       "      <td>5.6037168,-0.1869644</td>\n",
       "      <td>[[javascript, php, jquery, ajax, laravel]]</td>\n",
       "    </tr>\n",
       "    <tr>\n",
       "      <th>3</th>\n",
       "      <td>23.022505,72.5713621</td>\n",
       "      <td>[[php, javascript, jquery, ajax, arrays]]</td>\n",
       "    </tr>\n",
       "    <tr>\n",
       "      <th>4</th>\n",
       "      <td>23.022505,72.5713621</td>\n",
       "      <td>[[javascript, php, jquery, ajax, json], [javas...</td>\n",
       "    </tr>\n",
       "    <tr>\n",
       "      <th>5</th>\n",
       "      <td>23.022505,72.5713621</td>\n",
       "      <td>[[javascript, jquery, html, css, ajax]]</td>\n",
       "    </tr>\n",
       "    <tr>\n",
       "      <th>6</th>\n",
       "      <td>43.529742,5.447426999999999</td>\n",
       "      <td>[[java, php, android, mysql, json]]</td>\n",
       "    </tr>\n",
       "    <tr>\n",
       "      <th>7</th>\n",
       "      <td>41.153332,20.168331</td>\n",
       "      <td>[[javascript, php, html, css, ajax]]</td>\n",
       "    </tr>\n",
       "    <tr>\n",
       "      <th>8</th>\n",
       "      <td>35.0843859,-106.650422</td>\n",
       "      <td>[[javascript, php, jquery, json, ajax]]</td>\n",
       "    </tr>\n",
       "    <tr>\n",
       "      <th>9</th>\n",
       "      <td></td>\n",
       "      <td>[[javascript, mysql, node.js, mongodb, angular...</td>\n",
       "    </tr>\n",
       "  </tbody>\n",
       "</table>\n",
       "</div>"
      ],
      "text/plain": [
       "                      location  \\\n",
       "0      -34.8488008,138.5151734   \n",
       "1          57.0488195,9.921747   \n",
       "2         5.6037168,-0.1869644   \n",
       "3         23.022505,72.5713621   \n",
       "4         23.022505,72.5713621   \n",
       "5         23.022505,72.5713621   \n",
       "6  43.529742,5.447426999999999   \n",
       "7          41.153332,20.168331   \n",
       "8       35.0843859,-106.650422   \n",
       "9                                \n",
       "\n",
       "                                            tag_list  \n",
       "0             [[javascript, php, jquery, html, css]]  \n",
       "1            [[php, javascript, jquery, html, ajax]]  \n",
       "2         [[javascript, php, jquery, ajax, laravel]]  \n",
       "3          [[php, javascript, jquery, ajax, arrays]]  \n",
       "4  [[javascript, php, jquery, ajax, json], [javas...  \n",
       "5            [[javascript, jquery, html, css, ajax]]  \n",
       "6                [[java, php, android, mysql, json]]  \n",
       "7               [[javascript, php, html, css, ajax]]  \n",
       "8            [[javascript, php, jquery, json, ajax]]  \n",
       "9  [[javascript, mysql, node.js, mongodb, angular...  "
      ]
     },
     "execution_count": 257,
     "metadata": {},
     "output_type": "execute_result"
    }
   ],
   "source": [
    "df = df.head(10)\n",
    "df['location'] = df['location'].apply(lambda x: geocodeAddress(x))\n",
    "df.to_csv('geocodelocations.csv')\n",
    "df"
   ]
  }
 ],
 "metadata": {
  "kernelspec": {
   "display_name": "Python 3",
   "language": "python",
   "name": "python3"
  },
  "language_info": {
   "codemirror_mode": {
    "name": "ipython",
    "version": 3
   },
   "file_extension": ".py",
   "mimetype": "text/x-python",
   "name": "python",
   "nbconvert_exporter": "python",
   "pygments_lexer": "ipython3",
   "version": "3.6.9"
  }
 },
 "nbformat": 4,
 "nbformat_minor": 2
}
