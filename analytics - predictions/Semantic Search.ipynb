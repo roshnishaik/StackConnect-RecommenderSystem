{
 "cells": [
  {
   "cell_type": "code",
   "execution_count": 1,
   "metadata": {},
   "outputs": [],
   "source": [
    "# import libraries\n",
    "import os\n",
    "import numpy as np\n",
    "import pandas as pd\n",
    "import tensorflow as tf\n",
    "import tensorflow_hub as hub\n",
    "from sklearn import preprocessing\n",
    "\n",
    "import spacy\n",
    "from spacy.lang.en import English\n",
    "EN = spacy.load('en_core_web_sm')"
   ]
  },
  {
   "cell_type": "code",
   "execution_count": 2,
   "metadata": {},
   "outputs": [],
   "source": [
    "data = pd.read_csv('data/Preprocessed_data.csv')"
   ]
  },
  {
   "cell_type": "code",
   "execution_count": 27,
   "metadata": {},
   "outputs": [
    {
     "data": {
      "text/html": [
       "<div>\n",
       "<style scoped>\n",
       "    .dataframe tbody tr th:only-of-type {\n",
       "        vertical-align: middle;\n",
       "    }\n",
       "\n",
       "    .dataframe tbody tr th {\n",
       "        vertical-align: top;\n",
       "    }\n",
       "\n",
       "    .dataframe thead th {\n",
       "        text-align: right;\n",
       "    }\n",
       "</style>\n",
       "<table border=\"1\" class=\"dataframe\">\n",
       "  <thead>\n",
       "    <tr style=\"text-align: right;\">\n",
       "      <th></th>\n",
       "      <th>original_title</th>\n",
       "      <th>post_corpus</th>\n",
       "      <th>question_content</th>\n",
       "      <th>question_url</th>\n",
       "      <th>tags</th>\n",
       "      <th>overall_scores</th>\n",
       "      <th>answers_content</th>\n",
       "      <th>sentiment_polarity</th>\n",
       "      <th>sentiment_subjectivity</th>\n",
       "      <th>processed_title</th>\n",
       "    </tr>\n",
       "  </thead>\n",
       "  <tbody>\n",
       "    <tr>\n",
       "      <th>0</th>\n",
       "      <td>How can I create a directly-executable cross-p...</td>\n",
       "      <td>create directly executable cross platform gui ...</td>\n",
       "      <td>create directly executable cross platform gui ...</td>\n",
       "      <td>https://stackoverflow.com/questions/2933</td>\n",
       "      <td>python|user-interface|deployment|tkinter|relea...</td>\n",
       "      <td>0.041733</td>\n",
       "      <td>There's also PyGTK, which is basically a Pytho...</td>\n",
       "      <td>0.172751</td>\n",
       "      <td>0.455014</td>\n",
       "      <td>create directly executable cross platform gui ...</td>\n",
       "    </tr>\n",
       "    <tr>\n",
       "      <th>1</th>\n",
       "      <td>Replacement for for... if array iteration</td>\n",
       "      <td>replacement array iteration love list comprehe...</td>\n",
       "      <td>replacement array iteration love list comprehe...</td>\n",
       "      <td>https://stackoverflow.com/questions/13396</td>\n",
       "      <td>.net|python|arrays|loops|iteration</td>\n",
       "      <td>0.000176</td>\n",
       "      <td>in Ruby:</td>\n",
       "      <td>0.038933</td>\n",
       "      <td>0.533347</td>\n",
       "      <td>replacement array iteration</td>\n",
       "    </tr>\n",
       "    <tr>\n",
       "      <th>2</th>\n",
       "      <td>Python Regular Expressions to implement string...</td>\n",
       "      <td>python regular expressions implement string un...</td>\n",
       "      <td>python regular expressions implement string un...</td>\n",
       "      <td>https://stackoverflow.com/questions/13791</td>\n",
       "      <td>python|regex|backreference</td>\n",
       "      <td>0.000750</td>\n",
       "      <td>Well, I think you might have missed the r or m...</td>\n",
       "      <td>-0.122980</td>\n",
       "      <td>0.576632</td>\n",
       "      <td>python regular expressions implement string un...</td>\n",
       "    </tr>\n",
       "    <tr>\n",
       "      <th>3</th>\n",
       "      <td>Unicode vs UTF-8 confusion in Python / Django?</td>\n",
       "      <td>unicode vs utf8 confusion python django stumbl...</td>\n",
       "      <td>unicode vs utf8 confusion python django stumbl...</td>\n",
       "      <td>https://stackoverflow.com/questions/22149</td>\n",
       "      <td>python|django|unicode</td>\n",
       "      <td>0.005457</td>\n",
       "      <td>Python stores Unicode as UTF-16. str() will re...</td>\n",
       "      <td>0.082857</td>\n",
       "      <td>0.403250</td>\n",
       "      <td>unicode vs utf8 confusion python django</td>\n",
       "    </tr>\n",
       "    <tr>\n",
       "      <th>4</th>\n",
       "      <td>Django ImageField core=False in newforms admin</td>\n",
       "      <td>django imagefield core false newforms admin tr...</td>\n",
       "      <td>django imagefield core false newforms admin tr...</td>\n",
       "      <td>https://stackoverflow.com/questions/34209</td>\n",
       "      <td>python|django|django-models</td>\n",
       "      <td>0.000291</td>\n",
       "      <td>To get rid of \"This field is required,\" you ne...</td>\n",
       "      <td>0.180000</td>\n",
       "      <td>0.591429</td>\n",
       "      <td>django imagefield core false newforms admin</td>\n",
       "    </tr>\n",
       "    <tr>\n",
       "      <th>5</th>\n",
       "      <td>Django templates and variable attributes</td>\n",
       "      <td>django templates variable attributes using goo...</td>\n",
       "      <td>django templates variable attributes using goo...</td>\n",
       "      <td>https://stackoverflow.com/questions/35948</td>\n",
       "      <td>python|django|google-app-engine</td>\n",
       "      <td>0.005801</td>\n",
       "      <td>Or you can use the default django system which...</td>\n",
       "      <td>0.070463</td>\n",
       "      <td>0.578611</td>\n",
       "      <td>django templates variable attributes</td>\n",
       "    </tr>\n",
       "    <tr>\n",
       "      <th>6</th>\n",
       "      <td>Setup django with WSGI and apache</td>\n",
       "      <td>setup django wsgi apache sold mod_wsgi apache ...</td>\n",
       "      <td>setup django wsgi apache sold mod_wsgi apache ...</td>\n",
       "      <td>https://stackoverflow.com/questions/36806</td>\n",
       "      <td>python|django|apache|mod-wsgi</td>\n",
       "      <td>0.001668</td>\n",
       "      <td>What happens if you remove the  directive?</td>\n",
       "      <td>0.071429</td>\n",
       "      <td>0.230952</td>\n",
       "      <td>setup django wsgi apache</td>\n",
       "    </tr>\n",
       "    <tr>\n",
       "      <th>7</th>\n",
       "      <td>How do I merge two dictionaries in a single ex...</td>\n",
       "      <td>merge two dictionaries single expression two p...</td>\n",
       "      <td>merge two dictionaries single expression two p...</td>\n",
       "      <td>https://stackoverflow.com/questions/38987</td>\n",
       "      <td>python|dictionary|merge</td>\n",
       "      <td>0.998339</td>\n",
       "      <td>I wanted something similar, but with the abili...</td>\n",
       "      <td>0.009498</td>\n",
       "      <td>0.549654</td>\n",
       "      <td>merge two dictionaries single expression</td>\n",
       "    </tr>\n",
       "    <tr>\n",
       "      <th>8</th>\n",
       "      <td>How to know whether a window with a given titl...</td>\n",
       "      <td>know whether window given title already open t...</td>\n",
       "      <td>know whether window given title already open t...</td>\n",
       "      <td>https://stackoverflow.com/questions/45540</td>\n",
       "      <td>python|tkinter|tk</td>\n",
       "      <td>-0.000398</td>\n",
       "      <td>The previous answer works accordingly to the c...</td>\n",
       "      <td>0.206277</td>\n",
       "      <td>0.613853</td>\n",
       "      <td>know whether window given title already open tk</td>\n",
       "    </tr>\n",
       "    <tr>\n",
       "      <th>9</th>\n",
       "      <td>Django: Print url of view without hardcoding t...</td>\n",
       "      <td>django print url view without hardcoding url p...</td>\n",
       "      <td>django print url view without hardcoding url p...</td>\n",
       "      <td>https://stackoverflow.com/questions/47207</td>\n",
       "      <td>python|django</td>\n",
       "      <td>0.001324</td>\n",
       "      <td>You can use , but that will only work for a pa...</td>\n",
       "      <td>0.210833</td>\n",
       "      <td>0.611111</td>\n",
       "      <td>django print url view without hardcoding url</td>\n",
       "    </tr>\n",
       "  </tbody>\n",
       "</table>\n",
       "</div>"
      ],
      "text/plain": [
       "                                      original_title  \\\n",
       "0  How can I create a directly-executable cross-p...   \n",
       "1          Replacement for for... if array iteration   \n",
       "2  Python Regular Expressions to implement string...   \n",
       "3     Unicode vs UTF-8 confusion in Python / Django?   \n",
       "4     Django ImageField core=False in newforms admin   \n",
       "5           Django templates and variable attributes   \n",
       "6                  Setup django with WSGI and apache   \n",
       "7  How do I merge two dictionaries in a single ex...   \n",
       "8  How to know whether a window with a given titl...   \n",
       "9  Django: Print url of view without hardcoding t...   \n",
       "\n",
       "                                         post_corpus  \\\n",
       "0  create directly executable cross platform gui ...   \n",
       "1  replacement array iteration love list comprehe...   \n",
       "2  python regular expressions implement string un...   \n",
       "3  unicode vs utf8 confusion python django stumbl...   \n",
       "4  django imagefield core false newforms admin tr...   \n",
       "5  django templates variable attributes using goo...   \n",
       "6  setup django wsgi apache sold mod_wsgi apache ...   \n",
       "7  merge two dictionaries single expression two p...   \n",
       "8  know whether window given title already open t...   \n",
       "9  django print url view without hardcoding url p...   \n",
       "\n",
       "                                    question_content  \\\n",
       "0  create directly executable cross platform gui ...   \n",
       "1  replacement array iteration love list comprehe...   \n",
       "2  python regular expressions implement string un...   \n",
       "3  unicode vs utf8 confusion python django stumbl...   \n",
       "4  django imagefield core false newforms admin tr...   \n",
       "5  django templates variable attributes using goo...   \n",
       "6  setup django wsgi apache sold mod_wsgi apache ...   \n",
       "7  merge two dictionaries single expression two p...   \n",
       "8  know whether window given title already open t...   \n",
       "9  django print url view without hardcoding url p...   \n",
       "\n",
       "                                question_url  \\\n",
       "0   https://stackoverflow.com/questions/2933   \n",
       "1  https://stackoverflow.com/questions/13396   \n",
       "2  https://stackoverflow.com/questions/13791   \n",
       "3  https://stackoverflow.com/questions/22149   \n",
       "4  https://stackoverflow.com/questions/34209   \n",
       "5  https://stackoverflow.com/questions/35948   \n",
       "6  https://stackoverflow.com/questions/36806   \n",
       "7  https://stackoverflow.com/questions/38987   \n",
       "8  https://stackoverflow.com/questions/45540   \n",
       "9  https://stackoverflow.com/questions/47207   \n",
       "\n",
       "                                                tags  overall_scores  \\\n",
       "0  python|user-interface|deployment|tkinter|relea...        0.041733   \n",
       "1                 .net|python|arrays|loops|iteration        0.000176   \n",
       "2                         python|regex|backreference        0.000750   \n",
       "3                              python|django|unicode        0.005457   \n",
       "4                        python|django|django-models        0.000291   \n",
       "5                    python|django|google-app-engine        0.005801   \n",
       "6                      python|django|apache|mod-wsgi        0.001668   \n",
       "7                            python|dictionary|merge        0.998339   \n",
       "8                                  python|tkinter|tk       -0.000398   \n",
       "9                                      python|django        0.001324   \n",
       "\n",
       "                                     answers_content  sentiment_polarity  \\\n",
       "0  There's also PyGTK, which is basically a Pytho...            0.172751   \n",
       "1                                           in Ruby:            0.038933   \n",
       "2  Well, I think you might have missed the r or m...           -0.122980   \n",
       "3  Python stores Unicode as UTF-16. str() will re...            0.082857   \n",
       "4  To get rid of \"This field is required,\" you ne...            0.180000   \n",
       "5  Or you can use the default django system which...            0.070463   \n",
       "6         What happens if you remove the  directive?            0.071429   \n",
       "7  I wanted something similar, but with the abili...            0.009498   \n",
       "8  The previous answer works accordingly to the c...            0.206277   \n",
       "9  You can use , but that will only work for a pa...            0.210833   \n",
       "\n",
       "   sentiment_subjectivity                                    processed_title  \n",
       "0                0.455014  create directly executable cross platform gui ...  \n",
       "1                0.533347                        replacement array iteration  \n",
       "2                0.576632  python regular expressions implement string un...  \n",
       "3                0.403250            unicode vs utf8 confusion python django  \n",
       "4                0.591429        django imagefield core false newforms admin  \n",
       "5                0.578611               django templates variable attributes  \n",
       "6                0.230952                           setup django wsgi apache  \n",
       "7                0.549654           merge two dictionaries single expression  \n",
       "8                0.613853    know whether window given title already open tk  \n",
       "9                0.611111       django print url view without hardcoding url  "
      ]
     },
     "execution_count": 27,
     "metadata": {},
     "output_type": "execute_result"
    }
   ],
   "source": [
    "data.head(10)"
   ]
  },
  {
   "cell_type": "code",
   "execution_count": 3,
   "metadata": {},
   "outputs": [],
   "source": [
    "# Import saved Wordvec Embeddings\n",
    "import gensim\n",
    "w2v_model = gensim.models.word2vec.Word2Vec.load('data/SO_word2vec_embeddings.bin')"
   ]
  },
  {
   "cell_type": "markdown",
   "metadata": {},
   "source": [
    "**Create Sentence Embeddings**\n",
    "\n",
    "In order to calculate the embeddings for an entire sentence, we defined the following function which averages the embeddings for each valid token"
   ]
  },
  {
   "cell_type": "code",
   "execution_count": 4,
   "metadata": {},
   "outputs": [],
   "source": [
    "def question_to_vec(question, embeddings, dim=300):\n",
    "    question_embedding = np.zeros(dim)\n",
    "    valid_words = 0\n",
    "    for word in question.split(' '):\n",
    "        if word in embeddings:\n",
    "            valid_words += 1\n",
    "            question_embedding += embeddings[word]\n",
    "    if valid_words > 0:\n",
    "        return question_embedding/valid_words\n",
    "    else:\n",
    "        return question_embedding"
   ]
  },
  {
   "cell_type": "code",
   "execution_count": 5,
   "metadata": {},
   "outputs": [
    {
     "name": "stderr",
     "output_type": "stream",
     "text": [
      "e:\\dev\\envs\\tensorflow\\lib\\site-packages\\ipykernel_launcher.py:5: DeprecationWarning: Call to deprecated `__contains__` (Method will be removed in 4.0.0, use self.wv.__contains__() instead).\n",
      "  \"\"\"\n",
      "e:\\dev\\envs\\tensorflow\\lib\\site-packages\\ipykernel_launcher.py:7: DeprecationWarning: Call to deprecated `__getitem__` (Method will be removed in 4.0.0, use self.wv.__getitem__() instead).\n",
      "  import sys\n"
     ]
    }
   ],
   "source": [
    "all_title_embeddings = []\n",
    "for title in data.processed_title:\n",
    "    all_title_embeddings.append(question_to_vec(title, w2v_model))\n",
    "all_title_embeddings = np.array(all_title_embeddings)\n",
    "\n",
    "embeddings = pd.DataFrame(data = all_title_embeddings)\n",
    "embeddings.to_csv('data/title_embeddings.csv', index=False)"
   ]
  },
  {
   "cell_type": "code",
   "execution_count": 24,
   "metadata": {},
   "outputs": [],
   "source": [
    "all_title_embeddings = pd.read_csv('data/title_embeddings.csv').values"
   ]
  },
  {
   "cell_type": "code",
   "execution_count": 25,
   "metadata": {},
   "outputs": [
    {
     "data": {
      "text/plain": [
       "array([[-0.04937908, -0.61464383,  1.14346249, ..., -0.79477589,\n",
       "         0.53268059, -0.96669359],\n",
       "       [ 1.19756782,  0.96940847, -0.29225311, ...,  1.43396515,\n",
       "         0.84202259, -0.03741039],\n",
       "       [-0.273733  ,  0.50807061, -0.87573742, ..., -0.22963291,\n",
       "         1.36277719, -0.34878033],\n",
       "       ...,\n",
       "       [ 0.49968979,  0.81338476, -0.96863714, ..., -1.34989285,\n",
       "         0.57098916, -1.68519899],\n",
       "       [ 0.17646157,  0.61704408,  0.64064128, ...,  0.68547733,\n",
       "        -0.45004148, -0.36241225],\n",
       "       [ 0.4680537 ,  2.26560955, -0.12679541, ...,  0.0299069 ,\n",
       "         0.8983882 , -0.10422469]])"
      ]
     },
     "execution_count": 25,
     "metadata": {},
     "output_type": "execute_result"
    }
   ],
   "source": [
    "all_title_embeddings"
   ]
  },
  {
   "cell_type": "code",
   "execution_count": 7,
   "metadata": {},
   "outputs": [
    {
     "name": "stderr",
     "output_type": "stream",
     "text": [
      "Using TensorFlow backend.\n"
     ]
    }
   ],
   "source": [
    "import keras.backend as K\n",
    "\n",
    "# Custom loss function to handle multilabel classification task\n",
    "def multitask_loss(y_true, y_pred):\n",
    "    # Avoid divide by 0\n",
    "    y_pred = K.clip(y_pred, K.epsilon(), 1 - K.epsilon())\n",
    "    # Multi-task loss\n",
    "    return K.mean(K.sum(- y_true * K.log(y_pred) - (1 - y_true) * K.log(1 - y_pred), axis=1))"
   ]
  },
  {
   "cell_type": "code",
   "execution_count": 8,
   "metadata": {},
   "outputs": [],
   "source": [
    "from keras.models import load_model\n",
    "import keras.losses\n",
    "\n",
    "keras.losses.multitask_loss = multitask_loss\n",
    "model = load_model('data/Tag_predictor.h5')"
   ]
  },
  {
   "cell_type": "code",
   "execution_count": 11,
   "metadata": {},
   "outputs": [],
   "source": [
    "def predict_tags(text, include_neutral=True):\n",
    "    # Tokenize text\n",
    "    x_test = pad_sequences(tokenizer.texts_to_sequences([text]), maxlen=MAX_SEQUENCE_LENGTH)\n",
    "    # Predict\n",
    "    prediction = model.predict([x_test])[0]\n",
    "    for i,value in enumerate(prediction):\n",
    "        if value > 0.5:\n",
    "            prediction[i] = 1\n",
    "        else:\n",
    "            prediction[i] = 0\n",
    "    tags = tag_encoder.inverse_transform(np.array([prediction]))\n",
    "    return tags"
   ]
  },
  {
   "cell_type": "code",
   "execution_count": 13,
   "metadata": {},
   "outputs": [],
   "source": [
    "import re\n",
    "import nltk\n",
    "import inflect\n",
    "from nltk.corpus import stopwords\n",
    "\n",
    "def tokenize_text(text):\n",
    "    \"Apply tokenization using spacy to docstrings.\"\n",
    "    tokens = EN.tokenizer(text)\n",
    "    return [token.text.lower() for token in tokens if not token.is_space]\n",
    "\n",
    "def to_lowercase(words):\n",
    "    \"\"\"Convert all characters to lowercase from list of tokenized words\"\"\"\n",
    "    new_words = []\n",
    "    for word in words:\n",
    "        new_word = word.lower()\n",
    "        new_words.append(new_word)\n",
    "    return new_words\n",
    "\n",
    "def remove_punctuation(words):\n",
    "    \"\"\"Remove punctuation from list of tokenized words\"\"\"\n",
    "    new_words = []\n",
    "    for word in words:\n",
    "        new_word = re.sub(r'[^\\w\\s]', '', word)\n",
    "        if new_word != '':\n",
    "            new_words.append(new_word)\n",
    "    return new_words\n",
    "\n",
    "def remove_stopwords(words):\n",
    "    \"\"\"Remove stop words from list of tokenized words\"\"\"\n",
    "    new_words = []\n",
    "    for word in words:\n",
    "        if word not in stopwords.words('english'):\n",
    "            new_words.append(word)\n",
    "    return new_words\n",
    "\n",
    "def normalize(words):\n",
    "    words = to_lowercase(words)\n",
    "    words = remove_punctuation(words)\n",
    "    words = remove_stopwords(words)\n",
    "    return words\n",
    "\n",
    "def tokenize_code(text):\n",
    "    \"A very basic procedure for tokenizing code strings.\"\n",
    "    return RegexpTokenizer(r'\\w+').tokenize(text)\n",
    "\n",
    "def preprocess_text(text):\n",
    "    return ' '.join(normalize(tokenize_text(text)))"
   ]
  },
  {
   "cell_type": "code",
   "execution_count": 14,
   "metadata": {},
   "outputs": [],
   "source": [
    "from keras.preprocessing.text import Tokenizer\n",
    "from keras.preprocessing.sequence import pad_sequences\n",
    "\n",
    "MAX_SEQUENCE_LENGTH = 300\n",
    "import pickle\n",
    "with open('data/tokenizer.pickle', 'rb') as handle:\n",
    "    tokenizer = pickle.load(handle)"
   ]
  },
  {
   "attachments": {},
   "cell_type": "markdown",
   "metadata": {},
   "source": [
    "**Getting the most similar results**\n",
    "\n",
    "So the way we actually calculate the the most similar results, is by comparing how far each result is from the query in terms of distance. This can only be done if both the query and the results are in a shared vector space. Fortunately, that is exactly what our word embeddings are for. They create each sentence as a vector in the embedding space, which makes it easy for us to distinguish them.\n",
    "\n",
    "After we have those vectors, we can assign a Similarity Measure as a metric which measures the closeness of two vectors.\n",
    "\n",
    "We use a custom similarity measure by incorporating the sentiment of the answers and the popularity of the votes in addition to cosine similarity."
   ]
  },
  {
   "cell_type": "code",
   "execution_count": 29,
   "metadata": {},
   "outputs": [
    {
     "name": "stderr",
     "output_type": "stream",
     "text": [
      "e:\\dev\\envs\\tensorflow\\lib\\site-packages\\ipykernel_launcher.py:5: DeprecationWarning: Call to deprecated `__contains__` (Method will be removed in 4.0.0, use self.wv.__contains__() instead).\n",
      "  \"\"\"\n",
      "e:\\dev\\envs\\tensorflow\\lib\\site-packages\\ipykernel_launcher.py:7: DeprecationWarning: Call to deprecated `__getitem__` (Method will be removed in 4.0.0, use self.wv.__getitem__() instead).\n",
      "  import sys\n"
     ]
    },
    {
     "data": {
      "text/html": [
       "<h3>Results:</h3><a target=\"_blank\" href=https://stackoverflow.com/questions/30303053><h2>Python: Combination in lists of lists (?)</h2></a><h3> Similarity Score: 0.9183278575853985</h3><p style=\"font-family:verdana; font-size:110%;\">  python combination <b>lists</b> <b>lists</b> first wanted say ti</p><hr><a target=\"_blank\" href=https://stackoverflow.com/questions/55348640><h2>How to merge lists with common elements in a list of lists?</h2></a><h3> Similarity Score: 0.9121758348029573</h3><p style=\"font-family:verdana; font-size:110%;\">  merge <b>lists</b> common elements <b>list</b> <b>lists</b> trying merg</p><hr><a target=\"_blank\" href=https://stackoverflow.com/questions/38987><h2>How do I merge two dictionaries in a single expression?</h2></a><h3> Similarity Score: 0.9083217534357899</h3><p style=\"font-family:verdana; font-size:110%;\">  merge two dictionaries single expression two pytho</p><hr><a target=\"_blank\" href=https://stackoverflow.com/questions/23327242><h2>merge two lists to make list of lists</h2></a><h3> Similarity Score: 0.8934478728342783</h3><p style=\"font-family:verdana; font-size:110%;\">  merge two <b>lists</b> make <b>list</b> <b>lists</b> want merge 2 <b>lists</b></p><hr><a target=\"_blank\" href=https://stackoverflow.com/questions/53181290><h2>Combining two ordered lists into a list of lists</h2></a><h3> Similarity Score: 0.8903926389164213</h3><p style=\"font-family:verdana; font-size:110%;\">  combining two ordered <b>lists</b> <b>list</b> <b>lists</b> trying writ</p><hr>"
      ],
      "text/plain": [
       "<IPython.core.display.HTML object>"
      ]
     },
     "metadata": {},
     "output_type": "display_data"
    }
   ],
   "source": [
    "from IPython.display import HTML\n",
    "import logging\n",
    "from sklearn.metrics.pairwise import cosine_similarity\n",
    "\n",
    "search_string = \"Combine lists of lists\" \n",
    "search_string = ' '.join(normalize(tokenize_text(search_string)))\n",
    "results_returned = \"5\" \n",
    "search_vect = np.array([question_to_vec(search_string, w2v_model)])    # Vectorize the user query\n",
    "\n",
    "# Calculate Cosine similarites for the query and all titles\n",
    "cosine_similarities = pd.Series(cosine_similarity(search_vect, all_title_embeddings)[0])\n",
    "\n",
    "# Custom Similarity Measure\n",
    "cosine_similarities = cosine_similarities*(1 + 0.4*data.overall_scores + 0.1*(data.sentiment_polarity))\n",
    "\n",
    "output =\"\"\n",
    "for i,j in cosine_similarities.nlargest(int(results_returned)).iteritems():\n",
    "    output += '<a target=\"_blank\" href='+ str(data.question_url[i])+'><h2>' + data.original_title[i] + '</h2></a>'\n",
    "    output += '<h3> Similarity Score: ' + str(j) + '</h3>'\n",
    "    output +='<p style=\"font-family:verdana; font-size:110%;\"> '\n",
    "    for i in data.question_content[i][:50].split():\n",
    "        if i.lower() in search_string:\n",
    "            output += \" <b>\"+str(i)+\"</b>\"\n",
    "        else:\n",
    "            output += \" \"+str(i)\n",
    "    output += \"</p><hr>\"\n",
    "    \n",
    "output = '<h3>Results:</h3>'+output\n",
    "display(HTML(output))"
   ]
  }
 ],
 "metadata": {
  "kernelspec": {
   "display_name": "Python 3",
   "language": "python",
   "name": "python3"
  },
  "toc": {
   "base_numbering": 1,
   "nav_menu": {},
   "number_sections": true,
   "sideBar": true,
   "skip_h1_title": false,
   "title_cell": "Table of Contents",
   "title_sidebar": "Contents",
   "toc_cell": false,
   "toc_position": {},
   "toc_section_display": true,
   "toc_window_display": false
  },
  "varInspector": {
   "cols": {
    "lenName": 16,
    "lenType": 16,
    "lenVar": 40
   },
   "kernels_config": {
    "python": {
     "delete_cmd_postfix": "",
     "delete_cmd_prefix": "del ",
     "library": "var_list.py",
     "varRefreshCmd": "print(var_dic_list())"
    },
    "r": {
     "delete_cmd_postfix": ") ",
     "delete_cmd_prefix": "rm(",
     "library": "var_list.r",
     "varRefreshCmd": "cat(var_dic_list()) "
    }
   },
   "types_to_exclude": [
    "module",
    "function",
    "builtin_function_or_method",
    "instance",
    "_Feature"
   ],
   "window_display": false
  }
 },
 "nbformat": 4,
 "nbformat_minor": 4
}
