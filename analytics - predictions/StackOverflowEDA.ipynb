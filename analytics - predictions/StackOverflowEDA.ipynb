{
 "cells": [
  {
   "cell_type": "code",
   "execution_count": null,
   "metadata": {
    "_cell_guid": "b1076dfc-b9ad-4769-8c92-a6c4dae69d19",
    "_uuid": "8f2839f25d086af736a60e9eeb907d3b93b6e0e5"
   },
   "outputs": [],
   "source": [
    "%matplotlib inline\n",
    "import numpy as np \n",
    "import pandas as pd\n",
    "import matplotlib.pyplot as plt\n",
    "import pandas_profiling\n",
    "\n",
    "from google.cloud import bigquery\n",
    "import bq_helper\n",
    "\n",
    "import sklearn\n",
    "from sklearn.model_selection import train_test_split\n",
    "import statsmodels.api as sm\n",
    "from sklearn import metrics\n",
    "from sklearn.linear_model import LogisticRegression\n",
    "\n",
    "import wordcloud"
   ]
  },
  {
   "cell_type": "code",
   "execution_count": null,
   "metadata": {},
   "outputs": [],
   "source": [
    "stackoverflow = bq_helper.BigQueryHelper(\"bigquery-public-data\",\"stackoverflow\")\n",
    "stackoverflow.list_tables()"
   ]
  },
  {
   "cell_type": "code",
   "execution_count": null,
   "metadata": {},
   "outputs": [],
   "source": [
    "stackoverflow.head(\"posts_questions\")"
   ]
  },
  {
   "cell_type": "code",
   "execution_count": null,
   "metadata": {},
   "outputs": [],
   "source": [
    "stackoverflow.table_schema(\"posts_questions\")"
   ]
  },
  {
   "cell_type": "code",
   "execution_count": null,
   "metadata": {},
   "outputs": [],
   "source": [
    "posts_count_query = \"\"\"select EXTRACT(year FROM creation_date) AS year, sum(id) as posts\n",
    "        from `bigquery-public-data.stackoverflow.posts_questions`\n",
    "        where extract(year from creation_date) >= 2009 and extract(year from creation_date) < 2019\n",
    "        group by year\n",
    "        order by year\n",
    "        LIMIT 2000000\n",
    "        \"\"\"\n",
    "\n",
    "posts_count = stackoverflow.query_to_pandas(posts_count_query)\n",
    "posts_count.describe()"
   ]
  },
  {
   "cell_type": "code",
   "execution_count": null,
   "metadata": {},
   "outputs": [],
   "source": [
    "data = pd.DataFrame(posts_count)\n",
    "data.head(10)"
   ]
  },
  {
   "cell_type": "code",
   "execution_count": null,
   "metadata": {},
   "outputs": [],
   "source": [
    "pandas_profiling.ProfileReport(data)"
   ]
  },
  {
   "cell_type": "code",
   "execution_count": null,
   "metadata": {},
   "outputs": [],
   "source": [
    "get_tags_query = \"\"\"SELECT tags\n",
    "         FROM `bigquery-public-data.stackoverflow.posts_questions`\n",
    "         LIMIT 200000\n",
    "         \"\"\"\n",
    "tags_df = stackoverflow.query_to_pandas_safe(get_tags_query)\n",
    "tags = ' '.join(tags_df.tags).lower()"
   ]
  },
  {
   "cell_type": "code",
   "execution_count": null,
   "metadata": {},
   "outputs": [],
   "source": [
    "cloud = wordcloud.WordCloud(background_color='white',\n",
    "                            max_font_size=200,\n",
    "                            width=1600,\n",
    "                            height=800,\n",
    "                            max_words=300,\n",
    "                            relative_scaling=.5).generate(tags)\n",
    "plt.figure(figsize=(20,10))\n",
    "plt.axis('off')\n",
    "plt.savefig('stackOverflow.png')\n",
    "plt.imshow(cloud);"
   ]
  },
  {
   "cell_type": "code",
   "execution_count": null,
   "metadata": {},
   "outputs": [],
   "source": [
    "# prepare the trainig data\n",
    "pd.to_numeric(posts_count['year'])\n",
    "year = posts_count['year'].values.reshape(-1,1)\n",
    "posts = posts_count['posts'].values.reshape(-1,1)\n",
    "\n",
    "# build a linear regression model\n",
    "model = LinearRegression()\n",
    "X_train, X_test, y_train, y_test = train_test_split(year,posts,test_size=0.2,shuffle=False)\n",
    "model.fit(X_train,y_train)\n",
    "predictions = model.predict(X_test)\n",
    "print('Predicted values: ',predictions)\n",
    "\n",
    "# compute the mean squared error\n",
    "print('Mean Squared Error:', metrics.mean_squared_error(y_test, predictions))"
   ]
  },
  {
   "cell_type": "code",
   "execution_count": null,
   "metadata": {},
   "outputs": [],
   "source": [
    "# plot the training, testing and predicted points\n",
    "plt.scatter(X_train,y_train, color = \"blue\")\n",
    "plt.scatter(X_test, y_test, color = \"green\")\n",
    "plt.plot(X_test, predictions, color = \"red\")\n",
    "plt.gca().legend(('Y-Predicted','Y-Train', 'Y-Test'))\n",
    "plt.title('Total posts count vs years')\n",
    "plt.xlabel('Year')\n",
    "plt.ylabel('Posts')\n",
    "plt.show()"
   ]
  },
  {
   "cell_type": "markdown",
   "metadata": {},
   "source": [
    "Compute the future predictions of the tags related to front end development "
   ]
  },
  {
   "cell_type": "code",
   "execution_count": null,
   "metadata": {},
   "outputs": [],
   "source": [
    "# fetch the records with tags, angularjs,bootstrap,php,html,javascript,css\n",
    "query = \"\"\"select EXTRACT(year FROM creation_date) AS year, sum(id) as posts\n",
    "        from `bigquery-public-data.stackoverflow.posts_questions`\n",
    "        where extract(year from creation_date) >=2009 and extract(year from creation_date) < 2019 and (tags like '%bootstrap%' or \n",
    "        tags like '%angularjs%' or tags like '%php%' or tags like '%html%' or tags like '%javascript%' or tags like '%css%')\n",
    "        group by year\n",
    "        order by year\n",
    "        \"\"\"\n",
    "\n",
    "frontend_posts = stackoverflow.query_to_pandas(query)\n",
    "frontend_posts['posts']= frontend_posts['posts']*100/posts_count['posts']\n",
    "frontend_posts"
   ]
  },
  {
   "cell_type": "code",
   "execution_count": null,
   "metadata": {},
   "outputs": [],
   "source": [
    "frontend_posts.describe()"
   ]
  },
  {
   "cell_type": "code",
   "execution_count": null,
   "metadata": {},
   "outputs": [],
   "source": [
    "# prepare the training data\n",
    "pd.to_numeric(frontend_posts['year'])\n",
    "year = frontend_posts['year'].values.reshape(-1,1)\n",
    "posts = frontend_posts['posts'].values.reshape(-1,1)\n",
    "\n",
    "# train a Linear regression model\n",
    "X_train, X_test, y_train, y_test = train_test_split(year,posts,test_size=0.2,shuffle=False)\n",
    "model=LinearRegression()\n",
    "model.fit(X_train,y_train)\n",
    "frontend_predictions = model.predict(X_test)\n",
    "print('Predicted Values: ',frontend_predictions)"
   ]
  },
  {
   "cell_type": "code",
   "execution_count": null,
   "metadata": {},
   "outputs": [],
   "source": [
    "# plot a graph\n",
    "plt.scatter(X_train,y_train, color = \"blue\")\n",
    "plt.scatter(X_test, y_test, color = \"green\")\n",
    "plt.plot(X_test, frontend_predictions, color = \"red\")\n",
    "plt.gca().legend(('Y-Predicted','Y-Train', 'Y-Test'))\n",
    "plt.title('Front-end development posts count vs years')\n",
    "plt.xlabel('Year')\n",
    "plt.ylabel('Posts')\n",
    "plt.show()"
   ]
  },
  {
   "cell_type": "markdown",
   "metadata": {},
   "source": [
    "Compute the future predictions of the tags related to databases"
   ]
  },
  {
   "cell_type": "code",
   "execution_count": null,
   "metadata": {},
   "outputs": [],
   "source": [
    "# fetch the records with tags, mysql,mongodb,nosql,postgresql,cassandra\n",
    "query = \"\"\"select EXTRACT(year FROM creation_date) AS year, sum(id) as posts\n",
    "        from `bigquery-public-data.stackoverflow.posts_questions`\n",
    "        where extract(year from creation_date)>= 2009 and extract(year from creation_date) < 2019 \n",
    "        and (tags like '%mysql%' or tags like '%nosql%' or tags like '%mongodb%' \n",
    "        or tags like '%postgresql%' or tags like '%cassandra%')\n",
    "        group by year\n",
    "        order by year\n",
    "        \"\"\"\n",
    "\n",
    "database_posts = stackoverflow.query_to_pandas(query)\n",
    "database_posts['posts']= database_posts['posts']*100/posts_count['posts']\n",
    "database_posts"
   ]
  },
  {
   "cell_type": "code",
   "execution_count": null,
   "metadata": {},
   "outputs": [],
   "source": [
    "database_posts.describe()"
   ]
  },
  {
   "cell_type": "code",
   "execution_count": null,
   "metadata": {},
   "outputs": [],
   "source": [
    "# prepare the training data\n",
    "pd.to_numeric(database_posts['year'])\n",
    "year = database_posts['year'].values.reshape(-1,1)\n",
    "posts = database_posts['posts'].values.reshape(-1,1)"
   ]
  },
  {
   "cell_type": "code",
   "execution_count": null,
   "metadata": {},
   "outputs": [],
   "source": [
    "# train a Linear regression model\n",
    "X_train, X_test, y_train, y_test = train_test_split(year,posts,test_size=0.2,shuffle=False)\n",
    "model=LinearRegression()\n",
    "model.fit(X_train,y_train)\n",
    "database_predictions = model.predict(X_test)\n",
    "print('Predicted Values: ',database_predictions)"
   ]
  },
  {
   "cell_type": "code",
   "execution_count": null,
   "metadata": {},
   "outputs": [],
   "source": [
    "# plot a graph\n",
    "plt.scatter(X_train,y_train, color = \"blue\")\n",
    "plt.scatter(X_test, y_test, color = \"green\")\n",
    "plt.plot(X_test, database_predictions, color = \"red\")\n",
    "plt.gca().legend(('Y-Predicted','Y-Train', 'Y-Test'))\n",
    "plt.title('Database development posts count vs years')\n",
    "plt.xlabel('Year')\n",
    "plt.ylabel('Posts')\n",
    "plt.show()"
   ]
  }
 ],
 "metadata": {
  "kernelspec": {
   "display_name": "Python 3",
   "language": "python",
   "name": "python3"
  },
  "language_info": {
   "codemirror_mode": {
    "name": "ipython",
    "version": 3
   },
   "file_extension": ".py",
   "mimetype": "text/x-python",
   "name": "python",
   "nbconvert_exporter": "python",
   "pygments_lexer": "ipython3",
   "version": "3.6.9"
  }
 },
 "nbformat": 4,
 "nbformat_minor": 4
}
