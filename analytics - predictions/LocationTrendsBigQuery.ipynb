{
 "cells": [
  {
   "cell_type": "code",
   "execution_count": 2,
   "metadata": {},
   "outputs": [],
   "source": [
    "%matplotlib inline\n",
    "import numpy as np \n",
    "import pandas as pd \n",
    "import matplotlib.pyplot as plt\n",
    "\n",
    "import bq_helper"
   ]
  },
  {
   "cell_type": "code",
   "execution_count": null,
   "metadata": {},
   "outputs": [],
   "source": [
    "# get the object of the stack overflow dataset\n",
    "stackoverflow = bq_helper.BigQueryHelper(\"bigquery-public-data\",\"stackoverflow\")"
   ]
  },
  {
   "cell_type": "code",
   "execution_count": null,
   "metadata": {},
   "outputs": [],
   "source": [
    "# fetch the users location and tags associated to the SO posts\n",
    "location_trends_query = \"\"\"SELECT users.id, users.location, posts.tags \n",
    "                        FROM `bigquery-public-data.stackoverflow.users` users\n",
    "                        INNER JOIN `bigquery-public-data.stackoverflow.posts_questions` posts\n",
    "                        ON users.id = posts.owner_user_id         \n",
    "                        \"\"\"\n",
    "\n",
    "location_trends = stackoverflow.query_to_pandas(queryx)\n",
    "location_trends.to_csv('location_trends.csv')"
   ]
  }
 ],
 "metadata": {
  "kernelspec": {
   "display_name": "Python 3",
   "language": "python",
   "name": "python3"
  },
  "language_info": {
   "codemirror_mode": {
    "name": "ipython",
    "version": 3
   },
   "file_extension": ".py",
   "mimetype": "text/x-python",
   "name": "python",
   "nbconvert_exporter": "python",
   "pygments_lexer": "ipython3",
   "version": "3.6.9"
  }
 },
 "nbformat": 4,
 "nbformat_minor": 2
}
